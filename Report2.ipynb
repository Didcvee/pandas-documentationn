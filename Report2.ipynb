{
 "cells": [
  {
   "cell_type": "markdown",
   "id": "6017573d-c4af-481a-9676-5cea986a1407",
   "metadata": {},
   "source": [
    "## 2.3 Кластеризация  набора данных "
   ]
  },
  {
   "cell_type": "markdown",
   "id": "0c2f3e77-eb09-4f0e-8131-6e701e2a8383",
   "metadata": {},
   "source": [
    "загрузка библиотек"
   ]
  },
  {
   "cell_type": "code",
   "execution_count": 16,
   "id": "59dc6e68-898a-486d-a3a0-158c51879bce",
   "metadata": {},
   "outputs": [],
   "source": [
    "import matplotlib.pyplot as plt\n",
    "%matplotlib inline\n",
    "import matplotlib.pyplot as plt\n",
    "import matplotlib\n",
    "from matplotlib import cm\n",
    "import warnings\n",
    "warnings.filterwarnings(\"ignore\")\n",
    "from matplotlib import cm\n",
    "from sklearn.cluster import KMeans, DBSCAN\n",
    "from sklearn.mixture import GaussianMixture\n",
    "from sklearn.preprocessing import LabelEncoder, StandardScaler\n",
    "import seaborn as sns\n",
    "sns.set(style=\"white\", palette=\"muted\", color_codes=True)\n",
    "import pandas as pd\n",
    "pd.options.mode.chained_assignment = None \n",
    "import numpy as np\n",
    "from math import *\n",
    "from sklearn.cluster import SpectralClustering\n",
    "from sklearn.cluster import AgglomerativeClustering\n",
    "from matplotlib.colors import ListedColormap\n",
    "from sklearn.decomposition import PCA\n",
    "\n",
    "from sklearn import metrics"
   ]
  },
  {
   "cell_type": "markdown",
   "id": "f9f044ae-145b-4331-9721-f4f6a7119e0a",
   "metadata": {},
   "source": [
    "загружаем данные "
   ]
  },
  {
   "cell_type": "code",
   "execution_count": 3,
   "id": "87e19fa6-b893-4abd-924f-75ba66c710f2",
   "metadata": {},
   "outputs": [],
   "source": [
    "data  = pd.read_csv('data_base.csv')"
   ]
  },
  {
   "cell_type": "code",
   "execution_count": 4,
   "id": "d5cf26ab-b4bb-4623-b372-b2775ef3aa88",
   "metadata": {},
   "outputs": [
    {
     "name": "stdout",
     "output_type": "stream",
     "text": [
      "<class 'pandas.core.frame.DataFrame'>\n",
      "RangeIndex: 2416935 entries, 0 to 2416934\n",
      "Data columns (total 36 columns):\n",
      " #   Column                            Dtype  \n",
      "---  ------                            -----  \n",
      " 0   Unnamed: 0                        int64  \n",
      " 1   date                              object \n",
      " 2   hour                              int64  \n",
      " 3   line                              object \n",
      " 4   station                           object \n",
      " 5   num_val                           int64  \n",
      " 6   line_id                           int64  \n",
      " 7   line_name                         object \n",
      " 8   station_id                        int64  \n",
      " 9   entry_id                          int64  \n",
      " 10  entry_name                        object \n",
      " 11  input_doors_count                 int64  \n",
      " 12  input_doors_bandwidth             float64\n",
      " 13  input_doors_total_bandwidth       float64\n",
      " 14  input_turnstile_count             int64  \n",
      " 15  input_turnstile_bandwidth         float64\n",
      " 16  input_turnstile_total_bandwidth   float64\n",
      " 17  input_stairs_width                float64\n",
      " 18  input_stairs_bandwidth            float64\n",
      " 19  input_stairs_total_bandwidth      float64\n",
      " 20  input_escalator_count             int64  \n",
      " 21  input_escalator_bandwidth         float64\n",
      " 22  input_escalator_total_bandwidth   float64\n",
      " 23  output_doors_count                int64  \n",
      " 24  output_doors_bandwidth            float64\n",
      " 25  output_doors_total_bandwidth      float64\n",
      " 26  output_turnstile_count            int64  \n",
      " 27  output_turnstile_bandwidth        float64\n",
      " 28  output_turnstile_total_bandwidth  float64\n",
      " 29  output_stairs_width               float64\n",
      " 30  output_stairs_bandwidth           float64\n",
      " 31  output_stairs_total_bandwidth     float64\n",
      " 32  output_escalator_count            int64  \n",
      " 33  output_escalator_bandwidth        float64\n",
      " 34  output_escalator_total_bandwidth  float64\n",
      " 35  stop_id                           int64  \n",
      "dtypes: float64(18), int64(13), object(5)\n",
      "memory usage: 663.8+ MB\n"
     ]
    }
   ],
   "source": [
    "data.info()"
   ]
  },
  {
   "cell_type": "code",
   "execution_count": 5,
   "id": "eb0fec19-8c31-4ec5-95d8-c42daa9e7a17",
   "metadata": {},
   "outputs": [],
   "source": [
    "data_for_clst = data[['hour' , 'num_val' , 'line_id' , 'station_id' , 'entry_id']]"
   ]
  },
  {
   "cell_type": "markdown",
   "id": "ed08610d-787c-4492-a739-5b4145b3a8ac",
   "metadata": {},
   "source": [
    "так как  большинство  методов  кластеризации требуют много вычислений , а так же памяти оставить все колонки  будет вичислительно  не выгодно\n",
    ",поэтому  оставим  как можно больше  показателей , которые  смогут охарактертизовать поезду , час , кол-во  пассажиров , и айди  станций линии и входа"
   ]
  },
  {
   "cell_type": "code",
   "execution_count": 6,
   "id": "e4f06037-7d1a-4ddb-acca-416c6b0b2ad8",
   "metadata": {},
   "outputs": [
    {
     "data": {
      "text/html": [
       "<div>\n",
       "<style scoped>\n",
       "    .dataframe tbody tr th:only-of-type {\n",
       "        vertical-align: middle;\n",
       "    }\n",
       "\n",
       "    .dataframe tbody tr th {\n",
       "        vertical-align: top;\n",
       "    }\n",
       "\n",
       "    .dataframe thead th {\n",
       "        text-align: right;\n",
       "    }\n",
       "</style>\n",
       "<table border=\"1\" class=\"dataframe\">\n",
       "  <thead>\n",
       "    <tr style=\"text-align: right;\">\n",
       "      <th></th>\n",
       "      <th>hour</th>\n",
       "      <th>num_val</th>\n",
       "      <th>line_id</th>\n",
       "      <th>station_id</th>\n",
       "      <th>entry_id</th>\n",
       "    </tr>\n",
       "  </thead>\n",
       "  <tbody>\n",
       "    <tr>\n",
       "      <th>0</th>\n",
       "      <td>0</td>\n",
       "      <td>373</td>\n",
       "      <td>12</td>\n",
       "      <td>131</td>\n",
       "      <td>5</td>\n",
       "    </tr>\n",
       "    <tr>\n",
       "      <th>1</th>\n",
       "      <td>1</td>\n",
       "      <td>6</td>\n",
       "      <td>12</td>\n",
       "      <td>131</td>\n",
       "      <td>5</td>\n",
       "    </tr>\n",
       "    <tr>\n",
       "      <th>2</th>\n",
       "      <td>2</td>\n",
       "      <td>1</td>\n",
       "      <td>12</td>\n",
       "      <td>131</td>\n",
       "      <td>5</td>\n",
       "    </tr>\n",
       "    <tr>\n",
       "      <th>3</th>\n",
       "      <td>3</td>\n",
       "      <td>2</td>\n",
       "      <td>12</td>\n",
       "      <td>131</td>\n",
       "      <td>5</td>\n",
       "    </tr>\n",
       "    <tr>\n",
       "      <th>4</th>\n",
       "      <td>5</td>\n",
       "      <td>38</td>\n",
       "      <td>12</td>\n",
       "      <td>131</td>\n",
       "      <td>5</td>\n",
       "    </tr>\n",
       "    <tr>\n",
       "      <th>...</th>\n",
       "      <td>...</td>\n",
       "      <td>...</td>\n",
       "      <td>...</td>\n",
       "      <td>...</td>\n",
       "      <td>...</td>\n",
       "    </tr>\n",
       "    <tr>\n",
       "      <th>2416930</th>\n",
       "      <td>19</td>\n",
       "      <td>1757</td>\n",
       "      <td>15</td>\n",
       "      <td>251</td>\n",
       "      <td>5</td>\n",
       "    </tr>\n",
       "    <tr>\n",
       "      <th>2416931</th>\n",
       "      <td>20</td>\n",
       "      <td>1132</td>\n",
       "      <td>15</td>\n",
       "      <td>251</td>\n",
       "      <td>5</td>\n",
       "    </tr>\n",
       "    <tr>\n",
       "      <th>2416932</th>\n",
       "      <td>21</td>\n",
       "      <td>627</td>\n",
       "      <td>15</td>\n",
       "      <td>251</td>\n",
       "      <td>5</td>\n",
       "    </tr>\n",
       "    <tr>\n",
       "      <th>2416933</th>\n",
       "      <td>22</td>\n",
       "      <td>360</td>\n",
       "      <td>15</td>\n",
       "      <td>251</td>\n",
       "      <td>5</td>\n",
       "    </tr>\n",
       "    <tr>\n",
       "      <th>2416934</th>\n",
       "      <td>23</td>\n",
       "      <td>171</td>\n",
       "      <td>15</td>\n",
       "      <td>251</td>\n",
       "      <td>5</td>\n",
       "    </tr>\n",
       "  </tbody>\n",
       "</table>\n",
       "<p>2416935 rows × 5 columns</p>\n",
       "</div>"
      ],
      "text/plain": [
       "         hour  num_val  line_id  station_id  entry_id\n",
       "0           0      373       12         131         5\n",
       "1           1        6       12         131         5\n",
       "2           2        1       12         131         5\n",
       "3           3        2       12         131         5\n",
       "4           5       38       12         131         5\n",
       "...       ...      ...      ...         ...       ...\n",
       "2416930    19     1757       15         251         5\n",
       "2416931    20     1132       15         251         5\n",
       "2416932    21      627       15         251         5\n",
       "2416933    22      360       15         251         5\n",
       "2416934    23      171       15         251         5\n",
       "\n",
       "[2416935 rows x 5 columns]"
      ]
     },
     "execution_count": 6,
     "metadata": {},
     "output_type": "execute_result"
    }
   ],
   "source": [
    "data_for_clst"
   ]
  },
  {
   "cell_type": "markdown",
   "id": "49f2ed6a-e6d4-450f-9436-2708d29251d2",
   "metadata": {},
   "source": [
    "перед любой  кластеризацией  нужно  отцентрировать данные  , чтобы уменьшить вычислительную  сложность  и сделать алгоритм  устойчивым"
   ]
  },
  {
   "cell_type": "code",
   "execution_count": 7,
   "id": "3f0e8c4d-9b0b-42e4-9312-9b5ab2e8789c",
   "metadata": {},
   "outputs": [],
   "source": [
    "ss = StandardScaler()\n",
    "X = ss.fit_transform(data_for_clst)"
   ]
  },
  {
   "cell_type": "markdown",
   "id": "c05f1eed-8de8-4648-bb18-33edabb6a2be",
   "metadata": {},
   "source": [
    "\n",
    "Алгоритм k-means (k-средних)\n",
    "\n",
    "Наиболее простой, но в то же время достаточно неточный метод кластеризации в классической реализации. Он разбивает множество элементов векторного пространства на заранее известное число кластеров k. Действие алгоритма таково, что он стремится минимизировать среднеквадратичное отклонение на точках каждого кластера. Основная идея заключается в том, что на каждой итерации перевычисляется центр масс для каждого кластера, полученного на предыдущем шаге, затем векторы разбиваются на кластеры вновь в соответствии с тем, какой из новых центров оказался ближе по выбранной метрике. Алгоритм завершается, когда на какой-то итерации не происходит изменения кластеров. "
   ]
  },
  {
   "cell_type": "markdown",
   "id": "f75d9991-3e27-4997-9e3b-c69c307c0f2a",
   "metadata": {},
   "source": [
    "так же из-за проклятья  размерности  использовать  алгоритм  к ближайщих  на данных с размером  больше чем  2 будет  сложно  "
   ]
  },
  {
   "cell_type": "code",
   "execution_count": 8,
   "id": "db16b765-f658-4670-a028-ec897d2cec81",
   "metadata": {},
   "outputs": [],
   "source": [
    "km = KMeans(n_clusters = 3, init = 'k-means++' , max_iter = 500, n_init = 25, random_state = 42)\n",
    "y_means= km.fit_predict(X)\n",
    "data['Clusters_km'] = km.predict(X)"
   ]
  },
  {
   "cell_type": "markdown",
   "id": "653cfcfc-c0f8-428d-8312-34e153d98262",
   "metadata": {},
   "source": [
    "визуализация "
   ]
  },
  {
   "cell_type": "code",
   "execution_count": 9,
   "id": "87e4ca2b-a871-42ee-b9e7-de8bb29d6273",
   "metadata": {},
   "outputs": [
    {
     "data": {
      "image/png": "[encoded data removed]",
      "text/plain": [
       "<Figure size 640x480 with 1 Axes>"
      ]
     },
     "metadata": {},
     "output_type": "display_data"
    }
   ],
   "source": [
    "plt.scatter(X[y_means == 0, 0], X[y_means == 0, 1], s = 100, c = 'green', label = '0')\n",
    "plt.scatter(X[y_means == 1, 0], X[y_means == 1, 1], s = 100, c = 'red', label = '1')\n",
    "plt.scatter(X[y_means == 2, 0], X[y_means == 2, 1], s = 100, c = 'yellow', label = '2')\n",
    "\n",
    " \n",
    "plt.title('', fontsize = 20)\n",
    "plt.grid()\n",
    "plt.legend()\n",
    "plt.show()"
   ]
  },
  {
   "cell_type": "markdown",
   "id": "736c29cb-6f5b-466b-88cf-36feee01c3f5",
   "metadata": {},
   "source": [
    "как видно  одного  из кластера не  видно  и они  сложно отличимы друг от друга "
   ]
  },
  {
   "cell_type": "markdown",
   "id": "eca31498-21e3-4074-a55f-b1cab9356829",
   "metadata": {},
   "source": [
    "про этот метод сводку алгоритма  я давтаь не буду так как не очень знаком  с  точным  алгоритмом , но я выбрал этот способ  , так как относительно всех других  методов  вызывает  меньшую нагрузку на систему "
   ]
  },
  {
   "cell_type": "code",
   "execution_count": 10,
   "id": "2d94b731-a195-4372-9393-f6bcc83e236f",
   "metadata": {},
   "outputs": [],
   "source": [
    "gm = GaussianMixture(n_components = 3)\n",
    "y_means= gm.fit_predict(X)\n",
    "data['Clusters_gm'] = gm.predict(X)"
   ]
  },
  {
   "cell_type": "code",
   "execution_count": 11,
   "id": "b96fcaf1-b5f7-48be-b1fe-d9840030905d",
   "metadata": {},
   "outputs": [
    {
     "data": {
      "image/png": "[encoded data removed]",
      "text/plain": [
       "<Figure size 640x480 with 1 Axes>"
      ]
     },
     "metadata": {},
     "output_type": "display_data"
    }
   ],
   "source": [
    "plt.scatter(X[y_means == 0, 0], X[y_means == 0, 1], s = 100, c = 'green', label = '0')\n",
    "plt.scatter(X[y_means == 1, 0], X[y_means == 1, 1], s = 100, c = 'red', label = '1')\n",
    "plt.scatter(X[y_means == 2, 0], X[y_means == 2, 1], s = 100, c = 'yellow', label = '2')\n",
    "\n",
    " \n",
    "plt.title('', fontsize = 20)\n",
    "plt.grid()\n",
    "plt.legend()\n",
    "plt.show()"
   ]
  },
  {
   "cell_type": "markdown",
   "id": "7d1bab7a-b251-4e7b-afbc-407ea5e40c69",
   "metadata": {},
   "source": [
    "примерно  такая же история , что и с  к-means"
   ]
  },
  {
   "cell_type": "code",
   "execution_count": 12,
   "id": "a4e13dc7-dc1f-471d-9519-230565a951d1",
   "metadata": {},
   "outputs": [],
   "source": [
    "from sklearn.cluster import AffinityPropagation"
   ]
  },
  {
   "cell_type": "code",
   "execution_count": 15,
   "id": "42028827-0715-4448-9e81-6422f7a2200c",
   "metadata": {},
   "outputs": [
    {
     "ename": "MemoryError",
     "evalue": "Unable to allocate 42.5 TiB for an array with shape (2416935, 2416935) and data type float64",
     "output_type": "error",
     "traceback": [
      "\u001b[0;31m---------------------------------------------------------------------------\u001b[0m",
      "\u001b[0;31mMemoryError\u001b[0m                               Traceback (most recent call last)",
      "Cell \u001b[0;32mIn[15], line 2\u001b[0m\n\u001b[1;32m      1\u001b[0m gm \u001b[38;5;241m=\u001b[39m  AffinityPropagation()\n\u001b[0;32m----> 2\u001b[0m y_means\u001b[38;5;241m=\u001b[39m gm\u001b[38;5;241m.\u001b[39mfit_predict(X)\n\u001b[1;32m      3\u001b[0m data[\u001b[38;5;124m'\u001b[39m\u001b[38;5;124mClusters_gm\u001b[39m\u001b[38;5;124m'\u001b[39m] \u001b[38;5;241m=\u001b[39m gm\u001b[38;5;241m.\u001b[39mpredict(X)\n",
      "File \u001b[0;32m~/anaconda3/lib/python3.11/site-packages/sklearn/cluster/_affinity_propagation.py:582\u001b[0m, in \u001b[0;36mAffinityPropagation.fit_predict\u001b[0;34m(self, X, y)\u001b[0m\n\u001b[1;32m    563\u001b[0m \u001b[38;5;28;01mdef\u001b[39;00m \u001b[38;5;21mfit_predict\u001b[39m(\u001b[38;5;28mself\u001b[39m, X, y\u001b[38;5;241m=\u001b[39m\u001b[38;5;28;01mNone\u001b[39;00m):\n\u001b[1;32m    564\u001b[0m \u001b[38;5;250m    \u001b[39m\u001b[38;5;124;03m\"\"\"Fit clustering from features/affinity matrix; return cluster labels.\u001b[39;00m\n\u001b[1;32m    565\u001b[0m \n\u001b[1;32m    566\u001b[0m \u001b[38;5;124;03m    Parameters\u001b[39;00m\n\u001b[0;32m   (...)\u001b[0m\n\u001b[1;32m    580\u001b[0m \u001b[38;5;124;03m        Cluster labels.\u001b[39;00m\n\u001b[1;32m    581\u001b[0m \u001b[38;5;124;03m    \"\"\"\u001b[39;00m\n\u001b[0;32m--> 582\u001b[0m     \u001b[38;5;28;01mreturn\u001b[39;00m \u001b[38;5;28msuper\u001b[39m()\u001b[38;5;241m.\u001b[39mfit_predict(X, y)\n",
      "File \u001b[0;32m~/anaconda3/lib/python3.11/site-packages/sklearn/base.py:753\u001b[0m, in \u001b[0;36mClusterMixin.fit_predict\u001b[0;34m(self, X, y)\u001b[0m\n\u001b[1;32m    735\u001b[0m \u001b[38;5;250m\u001b[39m\u001b[38;5;124;03m\"\"\"\u001b[39;00m\n\u001b[1;32m    736\u001b[0m \u001b[38;5;124;03mPerform clustering on `X` and returns cluster labels.\u001b[39;00m\n\u001b[1;32m    737\u001b[0m \n\u001b[0;32m   (...)\u001b[0m\n\u001b[1;32m    749\u001b[0m \u001b[38;5;124;03m    Cluster labels.\u001b[39;00m\n\u001b[1;32m    750\u001b[0m \u001b[38;5;124;03m\"\"\"\u001b[39;00m\n\u001b[1;32m    751\u001b[0m \u001b[38;5;66;03m# non-optimized default implementation; override when a better\u001b[39;00m\n\u001b[1;32m    752\u001b[0m \u001b[38;5;66;03m# method is possible for a given clustering algorithm\u001b[39;00m\n\u001b[0;32m--> 753\u001b[0m \u001b[38;5;28mself\u001b[39m\u001b[38;5;241m.\u001b[39mfit(X)\n\u001b[1;32m    754\u001b[0m \u001b[38;5;28;01mreturn\u001b[39;00m \u001b[38;5;28mself\u001b[39m\u001b[38;5;241m.\u001b[39mlabels_\n",
      "File \u001b[0;32m~/anaconda3/lib/python3.11/site-packages/sklearn/cluster/_affinity_propagation.py:494\u001b[0m, in \u001b[0;36mAffinityPropagation.fit\u001b[0;34m(self, X, y)\u001b[0m\n\u001b[1;32m    492\u001b[0m     \u001b[38;5;28mself\u001b[39m\u001b[38;5;241m.\u001b[39maffinity_matrix_ \u001b[38;5;241m=\u001b[39m X\u001b[38;5;241m.\u001b[39mcopy() \u001b[38;5;28;01mif\u001b[39;00m \u001b[38;5;28mself\u001b[39m\u001b[38;5;241m.\u001b[39mcopy \u001b[38;5;28;01melse\u001b[39;00m X\n\u001b[1;32m    493\u001b[0m \u001b[38;5;28;01melse\u001b[39;00m:  \u001b[38;5;66;03m# self.affinity == \"euclidean\"\u001b[39;00m\n\u001b[0;32m--> 494\u001b[0m     \u001b[38;5;28mself\u001b[39m\u001b[38;5;241m.\u001b[39maffinity_matrix_ \u001b[38;5;241m=\u001b[39m \u001b[38;5;241m-\u001b[39meuclidean_distances(X, squared\u001b[38;5;241m=\u001b[39m\u001b[38;5;28;01mTrue\u001b[39;00m)\n\u001b[1;32m    496\u001b[0m \u001b[38;5;28;01mif\u001b[39;00m \u001b[38;5;28mself\u001b[39m\u001b[38;5;241m.\u001b[39maffinity_matrix_\u001b[38;5;241m.\u001b[39mshape[\u001b[38;5;241m0\u001b[39m] \u001b[38;5;241m!=\u001b[39m \u001b[38;5;28mself\u001b[39m\u001b[38;5;241m.\u001b[39maffinity_matrix_\u001b[38;5;241m.\u001b[39mshape[\u001b[38;5;241m1\u001b[39m]:\n\u001b[1;32m    497\u001b[0m     \u001b[38;5;28;01mraise\u001b[39;00m \u001b[38;5;167;01mValueError\u001b[39;00m(\n\u001b[1;32m    498\u001b[0m         \u001b[38;5;124m\"\u001b[39m\u001b[38;5;124mThe matrix of similarities must be a square array. \u001b[39m\u001b[38;5;124m\"\u001b[39m\n\u001b[1;32m    499\u001b[0m         \u001b[38;5;124mf\u001b[39m\u001b[38;5;124m\"\u001b[39m\u001b[38;5;124mGot \u001b[39m\u001b[38;5;132;01m{\u001b[39;00m\u001b[38;5;28mself\u001b[39m\u001b[38;5;241m.\u001b[39maffinity_matrix_\u001b[38;5;241m.\u001b[39mshape\u001b[38;5;132;01m}\u001b[39;00m\u001b[38;5;124m instead.\u001b[39m\u001b[38;5;124m\"\u001b[39m\n\u001b[1;32m    500\u001b[0m     )\n",
      "File \u001b[0;32m~/anaconda3/lib/python3.11/site-packages/sklearn/metrics/pairwise.py:328\u001b[0m, in \u001b[0;36meuclidean_distances\u001b[0;34m(X, Y, Y_norm_squared, squared, X_norm_squared)\u001b[0m\n\u001b[1;32m    322\u001b[0m     \u001b[38;5;28;01mif\u001b[39;00m Y_norm_squared\u001b[38;5;241m.\u001b[39mshape \u001b[38;5;241m!=\u001b[39m (\u001b[38;5;241m1\u001b[39m, Y\u001b[38;5;241m.\u001b[39mshape[\u001b[38;5;241m0\u001b[39m]):\n\u001b[1;32m    323\u001b[0m         \u001b[38;5;28;01mraise\u001b[39;00m \u001b[38;5;167;01mValueError\u001b[39;00m(\n\u001b[1;32m    324\u001b[0m             \u001b[38;5;124mf\u001b[39m\u001b[38;5;124m\"\u001b[39m\u001b[38;5;124mIncompatible dimensions for Y of shape \u001b[39m\u001b[38;5;132;01m{\u001b[39;00mY\u001b[38;5;241m.\u001b[39mshape\u001b[38;5;132;01m}\u001b[39;00m\u001b[38;5;124m and \u001b[39m\u001b[38;5;124m\"\u001b[39m\n\u001b[1;32m    325\u001b[0m             \u001b[38;5;124mf\u001b[39m\u001b[38;5;124m\"\u001b[39m\u001b[38;5;124mY_norm_squared of shape \u001b[39m\u001b[38;5;132;01m{\u001b[39;00moriginal_shape\u001b[38;5;132;01m}\u001b[39;00m\u001b[38;5;124m.\u001b[39m\u001b[38;5;124m\"\u001b[39m\n\u001b[1;32m    326\u001b[0m         )\n\u001b[0;32m--> 328\u001b[0m \u001b[38;5;28;01mreturn\u001b[39;00m _euclidean_distances(X, Y, X_norm_squared, Y_norm_squared, squared)\n",
      "File \u001b[0;32m~/anaconda3/lib/python3.11/site-packages/sklearn/metrics/pairwise.py:369\u001b[0m, in \u001b[0;36m_euclidean_distances\u001b[0;34m(X, Y, X_norm_squared, Y_norm_squared, squared)\u001b[0m\n\u001b[1;32m    366\u001b[0m     distances \u001b[38;5;241m=\u001b[39m _euclidean_distances_upcast(X, XX, Y, YY)\n\u001b[1;32m    367\u001b[0m \u001b[38;5;28;01melse\u001b[39;00m:\n\u001b[1;32m    368\u001b[0m     \u001b[38;5;66;03m# if dtype is already float64, no need to chunk and upcast\u001b[39;00m\n\u001b[0;32m--> 369\u001b[0m     distances \u001b[38;5;241m=\u001b[39m \u001b[38;5;241m-\u001b[39m\u001b[38;5;241m2\u001b[39m \u001b[38;5;241m*\u001b[39m safe_sparse_dot(X, Y\u001b[38;5;241m.\u001b[39mT, dense_output\u001b[38;5;241m=\u001b[39m\u001b[38;5;28;01mTrue\u001b[39;00m)\n\u001b[1;32m    370\u001b[0m     distances \u001b[38;5;241m+\u001b[39m\u001b[38;5;241m=\u001b[39m XX\n\u001b[1;32m    371\u001b[0m     distances \u001b[38;5;241m+\u001b[39m\u001b[38;5;241m=\u001b[39m YY\n",
      "File \u001b[0;32m~/anaconda3/lib/python3.11/site-packages/sklearn/utils/extmath.py:189\u001b[0m, in \u001b[0;36msafe_sparse_dot\u001b[0;34m(a, b, dense_output)\u001b[0m\n\u001b[1;32m    187\u001b[0m         ret \u001b[38;5;241m=\u001b[39m np\u001b[38;5;241m.\u001b[39mdot(a, b)\n\u001b[1;32m    188\u001b[0m \u001b[38;5;28;01melse\u001b[39;00m:\n\u001b[0;32m--> 189\u001b[0m     ret \u001b[38;5;241m=\u001b[39m a \u001b[38;5;241m@\u001b[39m b\n\u001b[1;32m    191\u001b[0m \u001b[38;5;28;01mif\u001b[39;00m (\n\u001b[1;32m    192\u001b[0m     sparse\u001b[38;5;241m.\u001b[39missparse(a)\n\u001b[1;32m    193\u001b[0m     \u001b[38;5;129;01mand\u001b[39;00m sparse\u001b[38;5;241m.\u001b[39missparse(b)\n\u001b[1;32m    194\u001b[0m     \u001b[38;5;129;01mand\u001b[39;00m dense_output\n\u001b[1;32m    195\u001b[0m     \u001b[38;5;129;01mand\u001b[39;00m \u001b[38;5;28mhasattr\u001b[39m(ret, \u001b[38;5;124m\"\u001b[39m\u001b[38;5;124mtoarray\u001b[39m\u001b[38;5;124m\"\u001b[39m)\n\u001b[1;32m    196\u001b[0m ):\n\u001b[1;32m    197\u001b[0m     \u001b[38;5;28;01mreturn\u001b[39;00m ret\u001b[38;5;241m.\u001b[39mtoarray()\n",
      "\u001b[0;31mMemoryError\u001b[0m: Unable to allocate 42.5 TiB for an array with shape (2416935, 2416935) and data type float64"
     ]
    }
   ],
   "source": [
    "ap =  AffinityPropagation()\n",
    "y_means= ap.fit_predict(X)\n",
    "data['Clusters_ap'] = ap.predict(X)"
   ]
  },
  {
   "cell_type": "markdown",
   "id": "eb44aada-12db-4146-af80-33a6ed9f8d35",
   "metadata": {},
   "source": [
    "все остальные  методы  кластеризация или даже  визуализации (3д плоскости)  не запускались , так  что  как третий  алгоритм  я  выбрал \n",
    "AffinityPropagation так как это был мой последний вариант  , которые я пробовал из  оставшихся алгоритмов  "
   ]
  },
  {
   "cell_type": "markdown",
   "id": "fa526b53-b786-4926-9d8d-3e7d09dcfebd",
   "metadata": {},
   "source": [
    "## 2.4 Вычисление  показателей  производительности  кластеризации "
   ]
  },
  {
   "cell_type": "markdown",
   "id": "d8da1300-5468-4b22-863d-9703e1f8dd06",
   "metadata": {},
   "source": [
    "для вычисления  показателей я  выбрал  две метрики  \n"
   ]
  },
  {
   "cell_type": "markdown",
   "id": "75f1ed79-0679-472f-bacf-7e153562a8f3",
   "metadata": {},
   "source": [
    "Индекс  Дэвиса болдин  - этот индекс означает среднее «сходство» между кластерами, где сходство — это мера, которая сравнивает расстояние между кластерами с размером самих кластеров.\n",
    "\n",
    "Ноль — это наименьший возможный результат. Значения, близкие к нулю, указывают на лучшее разделение.\n",
    "выбрал  я его потому что;\n",
    "\n",
    "- Вычисление Дэвиса-Боулдина проще, чем оценка Силуэта.\n",
    "- В индексе вычисляются только количества и характеристики, присущие набору данных\n"
   ]
  },
  {
   "cell_type": "markdown",
   "id": "9d88c086-c295-48e6-8dfd-791159a4e6db",
   "metadata": {},
   "source": [
    "Индекс   Калински-Харабаса -индекс представляет собой отношение суммы дисперсии между кластерами и дисперсии внутри кластера для всех кластеров (где дисперсия определяется как сумма квадратов расстояний)\n",
    "и выбрал я его потому что  \n",
    "\n",
    "- Оценка выше, когда кластеры плотные и хорошо разделенные, что относится к стандартной концепции кластера.\n"
   ]
  },
  {
   "cell_type": "code",
   "execution_count": 22,
   "id": "decaa544-4574-49a0-a024-56308534e002",
   "metadata": {},
   "outputs": [
    {
     "name": "stdout",
     "output_type": "stream",
     "text": [
      "Показатели производительности для KMeans:\n",
      "Индекс Дэвиса-Болдина: 0.998430962799879\n",
      "Индекс Калински-Харабаса: 899552.0749967729\n",
      "\n",
      "Показатели производительности для Gaussian Mixture:\n",
      "Индекс Дэвиса-Болдина: 1.5363684021480584\n",
      "Индекс Калински-Харабаса: 468473.63069135754\n"
     ]
    }
   ],
   "source": [
    "\n",
    "\n",
    "from sklearn.metrics import davies_bouldin_score, calinski_harabasz_score\n",
    "\n",
    "# Оценка производительности для KMeans\n",
    "davies_bouldin_km = davies_bouldin_score(X, data['Clusters_km'])\n",
    "calinski_harabasz_km = calinski_harabasz_score(X, data['Clusters_km'])\n",
    "\n",
    "print(\"Показатели производительности для KMeans:\")\n",
    "print(f\"Индекс Дэвиса-Болдина: {davies_bouldin_km}\")\n",
    "print(f\"Индекс Калински-Харабаса: {calinski_harabasz_km}\")\n",
    "\n",
    "# Оценка производительности для Gaussian Mixture\n",
    "davies_bouldin_gm = davies_bouldin_score(X, data['Clusters_gm'])\n",
    "calinski_harabasz_gm = calinski_harabasz_score(X, data['Clusters_gm'])\n",
    "\n",
    "print(\"\\nПоказатели производительности для Gaussian Mixture:\")\n",
    "print(f\"Индекс Дэвиса-Болдина: {davies_bouldin_gm}\")\n",
    "print(f\"Индекс Калински-Харабаса: {calinski_harabasz_gm}\")\n",
    "\n"
   ]
  },
  {
   "cell_type": "markdown",
   "id": "5883675e-5b7d-4ed2-a184-0d735d58ba62",
   "metadata": {},
   "source": [
    "исходя из оценок  можно  сказать , что  к-mean показыает себя лучше  так как  индекс  дэвиса ближе  к  нулю , а индекс Калински-Харабаса выше"
   ]
  },
  {
   "cell_type": "markdown",
   "id": "5791852b-2307-4e23-8114-92db2f754f27",
   "metadata": {},
   "source": [
    "## 2.5 Подготовка отчета"
   ]
  },
  {
   "cell_type": "markdown",
   "id": "e7795c93-6620-4387-8fa2-f695577477a5",
   "metadata": {},
   "source": [
    "в рамках  данного модуля  я построил  аналитическую  систему , а так же  кластеризовал  начальный  набор данных  тремя  алгоритмами  ,  провизуализировал  кластеризацию , а так же  выбрал  лучший алгоритм  исходя из  оценки  производительности  "
   ]
  },
  {
   "cell_type": "code",
   "execution_count": null,
   "id": "8279b25c-3d02-43f2-8fba-358b475c81d3",
   "metadata": {},
   "outputs": [],
   "source": []
  }
 ],
 "metadata": {
  "kernelspec": {
   "display_name": "Python 3 (ipykernel)",
   "language": "python",
   "name": "python3"
  },
  "language_info": {
   "codemirror_mode": {
    "name": "ipython",
    "version": 3
   },
   "file_extension": ".py",
   "mimetype": "text/x-python",
   "name": "python",
   "nbconvert_exporter": "python",
   "pygments_lexer": "ipython3",
   "version": "3.11.7"
  }
 },
 "nbformat": 4,
 "nbformat_minor": 5
}
