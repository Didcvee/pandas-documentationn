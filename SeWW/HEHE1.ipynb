{
 "cells": [
  {
   "cell_type": "code",
   "execution_count": 1,
   "id": "initial_id",
   "metadata": {
    "collapsed": true,
    "ExecuteTime": {
     "end_time": "2024-06-05T05:27:26.464892200Z",
     "start_time": "2024-06-05T05:27:26.357460100Z"
    }
   },
   "outputs": [],
   "source": [
    "from clickhouse_driver import Client"
   ]
  },
  {
   "cell_type": "code",
   "execution_count": null,
   "outputs": [],
   "source": [
    "database = 'metro'\n",
    "table = 'station'\n",
    "# Подключение к ClickHouse\n",
    "client = Client(host='localhost', database=database)\n",
    "\n",
    "# Создание базы данных\n",
    "client.execute('CREATE DATABASE IF NOT EXISTS metro')\n",
    "\n",
    "# Создание таблицы\n",
    "client.execute('''\n",
    "CREATE TABLE IF NOT EXISTS metro.station (\n",
    "    C_A String,\n",
    "    Unit String,\n",
    "    SCP String,\n",
    "    Station String,\n",
    "    Date Date,\n",
    "    Time String,\n",
    "    Description String,\n",
    "    Entries Int64,\n",
    "    Exits Int64,\n",
    "    datetime DateTime,\n",
    "    turnstile String\n",
    ") ENGINE = MergeTree()\n",
    "ORDER BY (Station, datetime)\n",
    "''')\n",
    "\n",
    "\n",
    "\n",
    "query = f'''\n",
    "SELECT count(*) \n",
    "FROM system.tables \n",
    "WHERE database = '{database}' AND name = '{table}'\n",
    "'''\n",
    "\n",
    "# Выполнение запроса\n",
    "table_exists = client.execute(query)[0][0]\n",
    "\n",
    "# Вывод результата\n",
    "if table_exists:\n",
    "    print(f\"Таблица {table} существует в базе данных {database}.\")\n",
    "else:\n",
    "    print(f\"Таблица {table} не существует в базе данных {database}.\")"
   ],
   "metadata": {
    "collapsed": false
   },
   "id": "60979f6067089b86"
  },
  {
   "cell_type": "code",
   "execution_count": null,
   "outputs": [],
   "source": [
    "import pandas as pd\n",
    "import numpy as np\n",
    "from datetime import datetime, timedelta\n",
    "import seaborn as sns\n",
    "%matplotlib inline\n",
    "import matplotlib\n",
    "import matplotlib.pyplot as plt\n",
    "from matplotlib import mlab\n",
    "from matplotlib.ticker import FuncFormatter\n",
    "matplotlib.style.use('ggplot')\n",
    "import sqlite3 \n",
    "import warnings\n",
    "warnings.filterwarnings('ignore')\n",
    "pd.options.mode.chained_assignment = None\n",
    "\n",
    "mta = pd.read_csv('Turnstile_Usage_Data__2022.csv', sep = ',',header = None)\n",
    "\n",
    "# Присвоение имен столбцов\n",
    "mta.columns = ['C/A', 'Unit', 'SCP', 'Station', 'Line Name', 'Division', 'Date', 'Time', 'Description', 'Entries', 'Exits']\n",
    "\n",
    "# mta.columns =['C/A','unit','SCP','Station','date','time','desc','entries','exits']\n",
    "\n",
    "# Оставляем только нужные столбцы\n",
    "mta = mta[['C/A', 'Unit', 'SCP', 'Station', 'Date', 'Time', 'Description', 'Entries', 'Exits']]\n",
    "mta = mta.drop(index=0)\n",
    "print(mta.head())"
   ],
   "metadata": {
    "collapsed": false
   },
   "id": "a0d386e96de3004"
  },
  {
   "cell_type": "code",
   "execution_count": null,
   "outputs": [],
   "source": [
    "mta['datetime'] = pd.to_datetime(mta.Date + ' ' + mta.Time, format='%m/%d/%Y  %H:%M:%S')\n",
    "mta['turnstile'] = mta['C/A'] + '-' + mta['Unit'] + '-' + mta['SCP']\n",
    "\n",
    "mta = mta[(mta.datetime >= '01-01-18 00:00:00') & \n",
    "          (mta.datetime <'07-01-26 00:00:00')]\n",
    "\n",
    "print(mta.head())"
   ],
   "metadata": {
    "collapsed": false
   },
   "id": "9018cba69a0f1498"
  },
  {
   "cell_type": "code",
   "execution_count": null,
   "outputs": [],
   "source": [
    "print(mta.head())\n",
    "\n",
    "# Преобразование строк в даты\n",
    "mta['Date'] = pd.to_datetime(mta['Date'], infer_datetime_format=True, dayfirst=False).dt.date\n",
    "mta['datetime'] = pd.to_datetime(mta['datetime'], infer_datetime_format=True, dayfirst=False)\n",
    "\n",
    "# Преобразование строк в целые числа\n",
    "mta['Entries'] = pd.to_numeric(mta['Entries'], errors='coerce').fillna(0).astype(int)\n",
    "mta['Exits'] = pd.to_numeric(mta['Exits'], errors='coerce').fillna(0).astype(int)\n",
    "\n",
    "# Преобразование данных в список кортежей\n",
    "data = list(mta.itertuples(index=False, name=None))\n",
    "\n",
    "# Вставка данных в таблицу с обработкой исключений\n",
    "try:\n",
    "    client.execute('''\n",
    "    INSERT INTO metro.station (C_A,\n",
    "    Unit ,\n",
    "    SCP ,\n",
    "    Station ,\n",
    "    Date ,\n",
    "    Time ,\n",
    "    Description ,\n",
    "    Entries ,\n",
    "    Exits ,\n",
    "    datetime ,\n",
    "    turnstile ) VALUES\n",
    "    ''', data)\n",
    "except ValueError as ve:\n",
    "    print(f\"ValueError occurred: {ve}\")\n",
    "except TypeError as te:\n",
    "    print(f\"TypeError occurred: {te}\")\n",
    "# except client.Error as ce:\n",
    "#     print(f\"ClickHouse Error occurred: {ce}\")\n",
    "except Exception as e:\n",
    "    print(f\"An unexpected error occurred: {e}\")"
   ],
   "metadata": {
    "collapsed": false
   },
   "id": "c516ee295c875f71"
  },
  {
   "cell_type": "code",
   "execution_count": null,
   "outputs": [],
   "source": [
    "# Рассчитаем корреляционную матрицу\n",
    "corr = mta[['Entries', 'Exits']].corr()\n",
    "\n",
    "# Построим тепловую карту\n",
    "plt.figure(figsize=(8, 6))\n",
    "sns.heatmap(corr, annot=True, cmap='coolwarm', vmin=-1, vmax=1)\n",
    "plt.title('Correlation Matrix')\n",
    "plt.show()"
   ],
   "metadata": {
    "collapsed": false
   },
   "id": "29ea60e671e542da"
  },
  {
   "cell_type": "code",
   "execution_count": null,
   "outputs": [],
   "source": [
    "# Описание каждого атрибута\n",
    "description = mta.describe(include='all')\n",
    "description"
   ],
   "metadata": {
    "collapsed": false
   },
   "id": "5d133148fabba621"
  },
  {
   "cell_type": "code",
   "execution_count": null,
   "outputs": [],
   "source": [
    "# Информация о количестве пустых значений для каждого атрибута\n",
    "missing_values = mta.isnull().sum()\n",
    "missing_values"
   ],
   "metadata": {
    "collapsed": false
   },
   "id": "dca053a13575132d"
  },
  {
   "cell_type": "code",
   "execution_count": null,
   "outputs": [],
   "source": [
    "import numpy as np\n",
    "import matplotlib.pyplot as plt\n",
    "import seaborn as sns\n",
    "from scipy.stats import shapiro, normaltest, kstest\n",
    "\n",
    "# Функция для графического и статистического анализа плотности распределения\n",
    "def plot_density(df, column):\n",
    "    sns.histplot(df[column].dropna(), kde=True)\n",
    "    plt.title(f'Density plot for {column}')\n",
    "    plt.show()\n",
    "    sns.boxplot(x=df[column].dropna())\n",
    "    plt.title(f'Box plot for {column}')\n",
    "    plt.show()\n",
    "    print(df[column].describe())"
   ],
   "metadata": {
    "collapsed": false
   },
   "id": "fff9d24d6d6ea27d"
  },
  {
   "cell_type": "code",
   "execution_count": null,
   "outputs": [],
   "source": [
    "# Функция для графического и статистического анализа нормальности распределения данных\n",
    "def plot_normality(df, column):\n",
    "    # Q-Q plot\n",
    "    from scipy.stats import probplot\n",
    "    probplot(df[column].dropna(), dist=\"norm\", plot=plt)\n",
    "    plt.title(f'Q-Q plot for {column}')\n",
    "    plt.show()\n",
    "    \n",
    "    # Шапиро-Уилка тест\n",
    "    stat, p = shapiro(df[column].dropna())\n",
    "    print(f'Shapiro-Wilk Test for {column}: Statistics={stat}, p-value={p}')\n",
    "    \n",
    "    # Д'Агостино тест\n",
    "    stat, p = normaltest(df[column].dropna())\n",
    "    print(f'D\\'Agostino Test for {column}: Statistics={stat}, p-value={p}')\n",
    "    \n",
    "    # Критерий Колмогорова-Смирнова\n",
    "    stat, p = kstest(df[column].dropna(), 'norm')\n",
    "    print(f'Kolmogorov-Smirnov Test for {column}: Statistics={stat}, p-value={p}')\n",
    "    \n",
    "    if p > 0.05:\n",
    "        print(f'{column} seems to follow a normal distribution (fail to reject H0)')\n",
    "    else:\n",
    "        print(f'{column} does not follow a normal distribution (reject H0)')"
   ],
   "metadata": {
    "collapsed": false
   },
   "id": "d59a9d3a55cf7be"
  },
  {
   "cell_type": "code",
   "execution_count": null,
   "outputs": [],
   "source": [
    "# Применение функций к каждому числовому атрибуту\n",
    "numeric_columns = mta.select_dtypes(include=[np.number]).columns\n",
    "\n",
    "for column in numeric_columns:\n",
    "    print(f'Attribute: {column}')\n",
    "    plot_density(mta, column)\n",
    "    plot_normality(mta, column)"
   ],
   "metadata": {
    "collapsed": false
   },
   "id": "6b5ccfa67f36536b"
  },
  {
   "cell_type": "code",
   "execution_count": null,
   "outputs": [],
   "source": [],
   "metadata": {
    "collapsed": false
   },
   "id": "897057f435790230"
  },
  {
   "cell_type": "code",
   "execution_count": null,
   "outputs": [],
   "source": [
    "# Функция для определения общей загруженности одной станции\n",
    "def total_traffic(data):\n",
    "    total_entries = data['Entries'].iloc[-1] - data['Entries'].iloc[0]\n",
    "    total_exits = data['Exits'].iloc[-1] - data['Exits'].iloc[0]\n",
    "    total_traffic = total_entries + total_exits\n",
    "    return total_traffic"
   ],
   "metadata": {
    "collapsed": false
   },
   "id": "7954f2f9ce37f469"
  },
  {
   "cell_type": "code",
   "execution_count": null,
   "outputs": [],
   "source": [
    "# Функция для расчета средней пропускной способности всех станций\n",
    "def calculate_average_capacity(df):\n",
    "    # Группировка данных по станциям и турникетам\n",
    "    grouped = df.groupby(['Station', 'turnstile']).apply(total_traffic).reset_index(name='total_traffic')\n",
    "    # Расчет средней пропускной способности\n",
    "    avg_capacity = grouped['total_traffic'].mean()\n",
    "    return avg_capacity\n",
    "\n",
    "# Функция для расчета пропускной способности в процентах для одной станции\n",
    "def capacity_percentage(data, avg_capacity):\n",
    "    total_traffic_station = total_traffic(data)\n",
    "    capacity_percent = (total_traffic_station / avg_capacity) * 100\n",
    "    return capacity_percent\n",
    "\n",
    "# Расчет средней пропускной способности\n",
    "avg_capacity = calculate_average_capacity(data_other_stations)\n",
    "\n",
    "# Расчет пропускной способности в процентах для одной станции\n",
    "percentage = capacity_percentage(data, avg_capacity)\n",
    "\n",
    "avg_capacity, percentage"
   ],
   "metadata": {
    "collapsed": false
   },
   "id": "dea36bfe5fa550f0"
  },
  {
   "cell_type": "code",
   "execution_count": null,
   "outputs": [],
   "source": [
    "def entry_exit_statistics(data):\n",
    "    total_entries = data['Entries'].iloc[-1] - data['Entries'].iloc[0]\n",
    "    total_exits = data['Exits'].iloc[-1] - data['Exits'].iloc[0]\n",
    "    return total_entries, total_exits\n",
    "\n",
    "# Пример использования\n",
    "entry_exit_statistics(data)"
   ],
   "metadata": {
    "collapsed": false
   },
   "id": "b6f08f7331932eb8"
  },
  {
   "cell_type": "code",
   "execution_count": null,
   "outputs": [],
   "source": [
    "def travel_intervals(data):\n",
    "    intervals = data['datetime'].diff().dropna()\n",
    "    return intervals\n",
    "\n",
    "# Пример использования\n",
    "travel_intervals(data)"
   ],
   "metadata": {
    "collapsed": false
   },
   "id": "44705922490a7ad0"
  },
  {
   "cell_type": "code",
   "execution_count": null,
   "outputs": [],
   "source": [
    "def travel_duration(data):\n",
    "    intervals = travel_intervals(data)\n",
    "    duration = intervals.dt.total_seconds() / 60  # Продолжительность в минутах\n",
    "    return duration\n",
    "\n",
    "# Пример использования\n",
    "travel_duration(data)"
   ],
   "metadata": {
    "collapsed": false
   },
   "id": "bcb8536d9fd60d86"
  }
 ],
 "metadata": {
  "kernelspec": {
   "display_name": "Python 3",
   "language": "python",
   "name": "python3"
  },
  "language_info": {
   "codemirror_mode": {
    "name": "ipython",
    "version": 2
   },
   "file_extension": ".py",
   "mimetype": "text/x-python",
   "name": "python",
   "nbconvert_exporter": "python",
   "pygments_lexer": "ipython2",
   "version": "2.7.6"
  }
 },
 "nbformat": 4,
 "nbformat_minor": 5
}
