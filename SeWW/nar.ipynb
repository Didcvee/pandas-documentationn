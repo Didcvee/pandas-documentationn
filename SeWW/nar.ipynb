{
 "cells": [
  {
   "cell_type": "code",
   "execution_count": null,
   "id": "initial_id",
   "metadata": {
    "collapsed": true
   },
   "outputs": [],
   "source": [
    "import pandas as pd\n",
    "\n",
    "df1 = pd.read_csv('file1.csv')\n",
    "df2 = pd.read_csv('file2.csv')\n",
    "\n",
    "combined_df = pd.merge(df1, df2, on='id')\n",
    "\n",
    "print(combined_df)"
   ]
  },
  {
   "cell_type": "code",
   "execution_count": null,
   "outputs": [],
   "source": [
    "import pandas as pd\n",
    "\n",
    "# Загружаем первый CSV-файл\n",
    "df1 = pd.read_csv('file1.csv')\n",
    "\n",
    "# Загружаем второй CSV-файл\n",
    "df2 = pd.read_csv('file2.csv')\n",
    "\n",
    "# Объединяем данные из двух DataFrame\n",
    "# Выберите метод объединения, который подходит вам:\n",
    "\n",
    "# 1. Объединение по строкам (добавление строк из df2 к df1)\n",
    "combined_df = pd.concat([df1, df2], ignore_index=True)\n",
    "\n",
    "# 2. Объединение по столбцам (добавление столбцов из df2 к df1)\n",
    "# Убедитесь, что в обоих файлах одинаковое количество строк\n",
    "combined_df = pd.concat([df1, df2], axis=1)\n",
    "\n",
    "# 3. Объединение по общему столбцу (аналогично JOIN в SQL)\n",
    "# Укажите имя общего столбца в параметре 'on'\n",
    "combined_df = pd.merge(df1, df2, on='common_column')\n",
    "\n",
    "# Сохраняем объединенный DataFrame в новый CSV-файл\n",
    "combined_df.to_csv('combined_file.csv', index=False)"
   ],
   "metadata": {
    "collapsed": false
   },
   "id": "916d65735737198"
  },
  {
   "cell_type": "code",
   "execution_count": null,
   "outputs": [],
   "source": [],
   "metadata": {
    "collapsed": false
   },
   "id": "4618410acb415b46"
  },
  {
   "cell_type": "code",
   "execution_count": null,
   "outputs": [],
   "source": [],
   "metadata": {
    "collapsed": false
   },
   "id": "2920cb7a20a4000c"
  },
  {
   "cell_type": "code",
   "execution_count": null,
   "outputs": [],
   "source": [],
   "metadata": {
    "collapsed": false
   },
   "id": "31f8d1fb4d34a95c"
  }
 ],
 "metadata": {
  "kernelspec": {
   "display_name": "Python 3",
   "language": "python",
   "name": "python3"
  },
  "language_info": {
   "codemirror_mode": {
    "name": "ipython",
    "version": 2
   },
   "file_extension": ".py",
   "mimetype": "text/x-python",
   "name": "python",
   "nbconvert_exporter": "python",
   "pygments_lexer": "ipython2",
   "version": "2.7.6"
  }
 },
 "nbformat": 4,
 "nbformat_minor": 5
}
