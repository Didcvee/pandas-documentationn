{
 "cells": [
  {
   "cell_type": "code",
   "execution_count": 10,
   "id": "initial_id",
   "metadata": {
    "collapsed": true,
    "ExecuteTime": {
     "end_time": "2024-06-05T01:45:01.241531400Z",
     "start_time": "2024-06-05T01:43:58.018786200Z"
    }
   },
   "outputs": [
    {
     "data": {
      "text/plain": "    C/A  Unit       SCP Station        Date      Time Description   Entries  \\\n0  H007  R248  00-00-00    1 AV  2022-11-19  03:00:00     REGULAR  15874830   \n1  H007  R248  00-00-01    1 AV  2022-11-19  03:00:00     REGULAR  61774939   \n2  H007  R248  00-03-00    1 AV  2022-11-19  03:00:00     REGULAR      7462   \n3  H007  R248  00-03-01    1 AV  2022-11-19  03:00:00     REGULAR   2665210   \n4  H007  R248  00-03-02    1 AV  2022-11-19  03:00:00     REGULAR   6768676   \n\n      Exits            datetime           turnstile  \n0  19176597 2022-11-19 03:00:00  H007-R248-00-00-00  \n1  39334861 2022-11-19 03:00:00  H007-R248-00-00-01  \n2     42544 2022-11-19 03:00:00  H007-R248-00-03-00  \n3   1254388 2022-11-19 03:00:00  H007-R248-00-03-01  \n4    603401 2022-11-19 03:00:00  H007-R248-00-03-02  ",
      "text/html": "<div>\n<style scoped>\n    .dataframe tbody tr th:only-of-type {\n        vertical-align: middle;\n    }\n\n    .dataframe tbody tr th {\n        vertical-align: top;\n    }\n\n    .dataframe thead th {\n        text-align: right;\n    }\n</style>\n<table border=\"1\" class=\"dataframe\">\n  <thead>\n    <tr style=\"text-align: right;\">\n      <th></th>\n      <th>C/A</th>\n      <th>Unit</th>\n      <th>SCP</th>\n      <th>Station</th>\n      <th>Date</th>\n      <th>Time</th>\n      <th>Description</th>\n      <th>Entries</th>\n      <th>Exits</th>\n      <th>datetime</th>\n      <th>turnstile</th>\n    </tr>\n  </thead>\n  <tbody>\n    <tr>\n      <th>0</th>\n      <td>H007</td>\n      <td>R248</td>\n      <td>00-00-00</td>\n      <td>1 AV</td>\n      <td>2022-11-19</td>\n      <td>03:00:00</td>\n      <td>REGULAR</td>\n      <td>15874830</td>\n      <td>19176597</td>\n      <td>2022-11-19 03:00:00</td>\n      <td>H007-R248-00-00-00</td>\n    </tr>\n    <tr>\n      <th>1</th>\n      <td>H007</td>\n      <td>R248</td>\n      <td>00-00-01</td>\n      <td>1 AV</td>\n      <td>2022-11-19</td>\n      <td>03:00:00</td>\n      <td>REGULAR</td>\n      <td>61774939</td>\n      <td>39334861</td>\n      <td>2022-11-19 03:00:00</td>\n      <td>H007-R248-00-00-01</td>\n    </tr>\n    <tr>\n      <th>2</th>\n      <td>H007</td>\n      <td>R248</td>\n      <td>00-03-00</td>\n      <td>1 AV</td>\n      <td>2022-11-19</td>\n      <td>03:00:00</td>\n      <td>REGULAR</td>\n      <td>7462</td>\n      <td>42544</td>\n      <td>2022-11-19 03:00:00</td>\n      <td>H007-R248-00-03-00</td>\n    </tr>\n    <tr>\n      <th>3</th>\n      <td>H007</td>\n      <td>R248</td>\n      <td>00-03-01</td>\n      <td>1 AV</td>\n      <td>2022-11-19</td>\n      <td>03:00:00</td>\n      <td>REGULAR</td>\n      <td>2665210</td>\n      <td>1254388</td>\n      <td>2022-11-19 03:00:00</td>\n      <td>H007-R248-00-03-01</td>\n    </tr>\n    <tr>\n      <th>4</th>\n      <td>H007</td>\n      <td>R248</td>\n      <td>00-03-02</td>\n      <td>1 AV</td>\n      <td>2022-11-19</td>\n      <td>03:00:00</td>\n      <td>REGULAR</td>\n      <td>6768676</td>\n      <td>603401</td>\n      <td>2022-11-19 03:00:00</td>\n      <td>H007-R248-00-03-02</td>\n    </tr>\n  </tbody>\n</table>\n</div>"
     },
     "execution_count": 10,
     "metadata": {},
     "output_type": "execute_result"
    }
   ],
   "source": [
    "from clickhouse_driver import Client\n",
    "import pandas as pd\n",
    "\n",
    "client = Client(host='localhost', database='metro')\n",
    "query = \"SELECT * FROM station\"\n",
    "data = client.execute(query)\n",
    "df = pd.DataFrame(data, columns=['C/A', 'Unit', 'SCP', 'Station', 'Date', 'Time', 'Description', 'Entries', 'Exits', 'datetime','turnstile'])\n",
    "df.head()"
   ]
  },
  {
   "cell_type": "code",
   "execution_count": 48,
   "outputs": [
    {
     "name": "stderr",
     "output_type": "stream",
     "text": [
      "C:\\Users\\Didcvee\\AppData\\Local\\Temp\\ipykernel_4952\\3844793025.py:14: FutureWarning: 'H' is deprecated and will be removed in a future version, please use 'h' instead.\n",
      "  station_grouped = df.groupby(['Station', pd.Grouper(key='datetime', freq='H')]).sum().reset_index()\n"
     ]
    },
    {
     "ename": "TypeError",
     "evalue": "unsupported operand type(s) for +: 'datetime.date' and 'datetime.date'",
     "output_type": "error",
     "traceback": [
      "\u001B[1;31m---------------------------------------------------------------------------\u001B[0m",
      "\u001B[1;31mTypeError\u001B[0m                                 Traceback (most recent call last)",
      "Cell \u001B[1;32mIn[48], line 14\u001B[0m\n\u001B[0;32m     11\u001B[0m df[\u001B[38;5;124m'\u001B[39m\u001B[38;5;124mpassenger_flow\u001B[39m\u001B[38;5;124m'\u001B[39m] \u001B[38;5;241m=\u001B[39m df[\u001B[38;5;124m'\u001B[39m\u001B[38;5;124mEntries\u001B[39m\u001B[38;5;124m'\u001B[39m] \u001B[38;5;241m+\u001B[39m df[\u001B[38;5;124m'\u001B[39m\u001B[38;5;124mExits\u001B[39m\u001B[38;5;124m'\u001B[39m]\n\u001B[0;32m     13\u001B[0m \u001B[38;5;66;03m# Группировка данных по станциям и времени\u001B[39;00m\n\u001B[1;32m---> 14\u001B[0m station_grouped \u001B[38;5;241m=\u001B[39m \u001B[43mdf\u001B[49m\u001B[38;5;241;43m.\u001B[39;49m\u001B[43mgroupby\u001B[49m\u001B[43m(\u001B[49m\u001B[43m[\u001B[49m\u001B[38;5;124;43m'\u001B[39;49m\u001B[38;5;124;43mStation\u001B[39;49m\u001B[38;5;124;43m'\u001B[39;49m\u001B[43m,\u001B[49m\u001B[43m \u001B[49m\u001B[43mpd\u001B[49m\u001B[38;5;241;43m.\u001B[39;49m\u001B[43mGrouper\u001B[49m\u001B[43m(\u001B[49m\u001B[43mkey\u001B[49m\u001B[38;5;241;43m=\u001B[39;49m\u001B[38;5;124;43m'\u001B[39;49m\u001B[38;5;124;43mdatetime\u001B[39;49m\u001B[38;5;124;43m'\u001B[39;49m\u001B[43m,\u001B[49m\u001B[43m \u001B[49m\u001B[43mfreq\u001B[49m\u001B[38;5;241;43m=\u001B[39;49m\u001B[38;5;124;43m'\u001B[39;49m\u001B[38;5;124;43mH\u001B[39;49m\u001B[38;5;124;43m'\u001B[39;49m\u001B[43m)\u001B[49m\u001B[43m]\u001B[49m\u001B[43m)\u001B[49m\u001B[38;5;241;43m.\u001B[39;49m\u001B[43msum\u001B[49m\u001B[43m(\u001B[49m\u001B[43m)\u001B[49m\u001B[38;5;241m.\u001B[39mreset_index()\n\u001B[0;32m     16\u001B[0m \u001B[38;5;66;03m# Вычисление максимальной загруженности\u001B[39;00m\n\u001B[0;32m     17\u001B[0m max_load \u001B[38;5;241m=\u001B[39m station_grouped[\u001B[38;5;124m'\u001B[39m\u001B[38;5;124mpassenger_flow\u001B[39m\u001B[38;5;124m'\u001B[39m]\u001B[38;5;241m.\u001B[39mmax()\n",
      "File \u001B[1;32m~\\PycharmProjects\\pythonProject1\\venv\\lib\\site-packages\\pandas\\core\\groupby\\groupby.py:3146\u001B[0m, in \u001B[0;36mGroupBy.sum\u001B[1;34m(self, numeric_only, min_count, engine, engine_kwargs)\u001B[0m\n\u001B[0;32m   3141\u001B[0m \u001B[38;5;28;01melse\u001B[39;00m:\n\u001B[0;32m   3142\u001B[0m     \u001B[38;5;66;03m# If we are grouping on categoricals we want unobserved categories to\u001B[39;00m\n\u001B[0;32m   3143\u001B[0m     \u001B[38;5;66;03m# return zero, rather than the default of NaN which the reindexing in\u001B[39;00m\n\u001B[0;32m   3144\u001B[0m     \u001B[38;5;66;03m# _agg_general() returns. GH #31422\u001B[39;00m\n\u001B[0;32m   3145\u001B[0m     \u001B[38;5;28;01mwith\u001B[39;00m com\u001B[38;5;241m.\u001B[39mtemp_setattr(\u001B[38;5;28mself\u001B[39m, \u001B[38;5;124m\"\u001B[39m\u001B[38;5;124mobserved\u001B[39m\u001B[38;5;124m\"\u001B[39m, \u001B[38;5;28;01mTrue\u001B[39;00m):\n\u001B[1;32m-> 3146\u001B[0m         result \u001B[38;5;241m=\u001B[39m \u001B[38;5;28;43mself\u001B[39;49m\u001B[38;5;241;43m.\u001B[39;49m\u001B[43m_agg_general\u001B[49m\u001B[43m(\u001B[49m\n\u001B[0;32m   3147\u001B[0m \u001B[43m            \u001B[49m\u001B[43mnumeric_only\u001B[49m\u001B[38;5;241;43m=\u001B[39;49m\u001B[43mnumeric_only\u001B[49m\u001B[43m,\u001B[49m\n\u001B[0;32m   3148\u001B[0m \u001B[43m            \u001B[49m\u001B[43mmin_count\u001B[49m\u001B[38;5;241;43m=\u001B[39;49m\u001B[43mmin_count\u001B[49m\u001B[43m,\u001B[49m\n\u001B[0;32m   3149\u001B[0m \u001B[43m            \u001B[49m\u001B[43malias\u001B[49m\u001B[38;5;241;43m=\u001B[39;49m\u001B[38;5;124;43m\"\u001B[39;49m\u001B[38;5;124;43msum\u001B[39;49m\u001B[38;5;124;43m\"\u001B[39;49m\u001B[43m,\u001B[49m\n\u001B[0;32m   3150\u001B[0m \u001B[43m            \u001B[49m\u001B[43mnpfunc\u001B[49m\u001B[38;5;241;43m=\u001B[39;49m\u001B[43mnp\u001B[49m\u001B[38;5;241;43m.\u001B[39;49m\u001B[43msum\u001B[49m\u001B[43m,\u001B[49m\n\u001B[0;32m   3151\u001B[0m \u001B[43m        \u001B[49m\u001B[43m)\u001B[49m\n\u001B[0;32m   3153\u001B[0m     \u001B[38;5;28;01mreturn\u001B[39;00m \u001B[38;5;28mself\u001B[39m\u001B[38;5;241m.\u001B[39m_reindex_output(result, fill_value\u001B[38;5;241m=\u001B[39m\u001B[38;5;241m0\u001B[39m)\n",
      "File \u001B[1;32m~\\PycharmProjects\\pythonProject1\\venv\\lib\\site-packages\\pandas\\core\\groupby\\groupby.py:1906\u001B[0m, in \u001B[0;36mGroupBy._agg_general\u001B[1;34m(self, numeric_only, min_count, alias, npfunc, **kwargs)\u001B[0m\n\u001B[0;32m   1896\u001B[0m \u001B[38;5;129m@final\u001B[39m\n\u001B[0;32m   1897\u001B[0m \u001B[38;5;28;01mdef\u001B[39;00m \u001B[38;5;21m_agg_general\u001B[39m(\n\u001B[0;32m   1898\u001B[0m     \u001B[38;5;28mself\u001B[39m,\n\u001B[1;32m   (...)\u001B[0m\n\u001B[0;32m   1904\u001B[0m     \u001B[38;5;241m*\u001B[39m\u001B[38;5;241m*\u001B[39mkwargs,\n\u001B[0;32m   1905\u001B[0m ):\n\u001B[1;32m-> 1906\u001B[0m     result \u001B[38;5;241m=\u001B[39m \u001B[38;5;28mself\u001B[39m\u001B[38;5;241m.\u001B[39m_cython_agg_general(\n\u001B[0;32m   1907\u001B[0m         how\u001B[38;5;241m=\u001B[39malias,\n\u001B[0;32m   1908\u001B[0m         alt\u001B[38;5;241m=\u001B[39mnpfunc,\n\u001B[0;32m   1909\u001B[0m         numeric_only\u001B[38;5;241m=\u001B[39mnumeric_only,\n\u001B[0;32m   1910\u001B[0m         min_count\u001B[38;5;241m=\u001B[39mmin_count,\n\u001B[0;32m   1911\u001B[0m         \u001B[38;5;241m*\u001B[39m\u001B[38;5;241m*\u001B[39mkwargs,\n\u001B[0;32m   1912\u001B[0m     )\n\u001B[0;32m   1913\u001B[0m     \u001B[38;5;28;01mreturn\u001B[39;00m result\u001B[38;5;241m.\u001B[39m__finalize__(\u001B[38;5;28mself\u001B[39m\u001B[38;5;241m.\u001B[39mobj, method\u001B[38;5;241m=\u001B[39m\u001B[38;5;124m\"\u001B[39m\u001B[38;5;124mgroupby\u001B[39m\u001B[38;5;124m\"\u001B[39m)\n",
      "File \u001B[1;32m~\\PycharmProjects\\pythonProject1\\venv\\lib\\site-packages\\pandas\\core\\groupby\\groupby.py:1998\u001B[0m, in \u001B[0;36mGroupBy._cython_agg_general\u001B[1;34m(self, how, alt, numeric_only, min_count, **kwargs)\u001B[0m\n\u001B[0;32m   1995\u001B[0m     result \u001B[38;5;241m=\u001B[39m \u001B[38;5;28mself\u001B[39m\u001B[38;5;241m.\u001B[39m_agg_py_fallback(how, values, ndim\u001B[38;5;241m=\u001B[39mdata\u001B[38;5;241m.\u001B[39mndim, alt\u001B[38;5;241m=\u001B[39malt)\n\u001B[0;32m   1996\u001B[0m     \u001B[38;5;28;01mreturn\u001B[39;00m result\n\u001B[1;32m-> 1998\u001B[0m new_mgr \u001B[38;5;241m=\u001B[39m \u001B[43mdata\u001B[49m\u001B[38;5;241;43m.\u001B[39;49m\u001B[43mgrouped_reduce\u001B[49m\u001B[43m(\u001B[49m\u001B[43marray_func\u001B[49m\u001B[43m)\u001B[49m\n\u001B[0;32m   1999\u001B[0m res \u001B[38;5;241m=\u001B[39m \u001B[38;5;28mself\u001B[39m\u001B[38;5;241m.\u001B[39m_wrap_agged_manager(new_mgr)\n\u001B[0;32m   2000\u001B[0m \u001B[38;5;28;01mif\u001B[39;00m how \u001B[38;5;129;01min\u001B[39;00m [\u001B[38;5;124m\"\u001B[39m\u001B[38;5;124midxmin\u001B[39m\u001B[38;5;124m\"\u001B[39m, \u001B[38;5;124m\"\u001B[39m\u001B[38;5;124midxmax\u001B[39m\u001B[38;5;124m\"\u001B[39m]:\n",
      "File \u001B[1;32m~\\PycharmProjects\\pythonProject1\\venv\\lib\\site-packages\\pandas\\core\\internals\\managers.py:1469\u001B[0m, in \u001B[0;36mBlockManager.grouped_reduce\u001B[1;34m(self, func)\u001B[0m\n\u001B[0;32m   1465\u001B[0m \u001B[38;5;28;01mif\u001B[39;00m blk\u001B[38;5;241m.\u001B[39mis_object:\n\u001B[0;32m   1466\u001B[0m     \u001B[38;5;66;03m# split on object-dtype blocks bc some columns may raise\u001B[39;00m\n\u001B[0;32m   1467\u001B[0m     \u001B[38;5;66;03m#  while others do not.\u001B[39;00m\n\u001B[0;32m   1468\u001B[0m     \u001B[38;5;28;01mfor\u001B[39;00m sb \u001B[38;5;129;01min\u001B[39;00m blk\u001B[38;5;241m.\u001B[39m_split():\n\u001B[1;32m-> 1469\u001B[0m         applied \u001B[38;5;241m=\u001B[39m \u001B[43msb\u001B[49m\u001B[38;5;241;43m.\u001B[39;49m\u001B[43mapply\u001B[49m\u001B[43m(\u001B[49m\u001B[43mfunc\u001B[49m\u001B[43m)\u001B[49m\n\u001B[0;32m   1470\u001B[0m         result_blocks \u001B[38;5;241m=\u001B[39m extend_blocks(applied, result_blocks)\n\u001B[0;32m   1471\u001B[0m \u001B[38;5;28;01melse\u001B[39;00m:\n",
      "File \u001B[1;32m~\\PycharmProjects\\pythonProject1\\venv\\lib\\site-packages\\pandas\\core\\internals\\blocks.py:393\u001B[0m, in \u001B[0;36mBlock.apply\u001B[1;34m(self, func, **kwargs)\u001B[0m\n\u001B[0;32m    387\u001B[0m \u001B[38;5;129m@final\u001B[39m\n\u001B[0;32m    388\u001B[0m \u001B[38;5;28;01mdef\u001B[39;00m \u001B[38;5;21mapply\u001B[39m(\u001B[38;5;28mself\u001B[39m, func, \u001B[38;5;241m*\u001B[39m\u001B[38;5;241m*\u001B[39mkwargs) \u001B[38;5;241m-\u001B[39m\u001B[38;5;241m>\u001B[39m \u001B[38;5;28mlist\u001B[39m[Block]:\n\u001B[0;32m    389\u001B[0m \u001B[38;5;250m    \u001B[39m\u001B[38;5;124;03m\"\"\"\u001B[39;00m\n\u001B[0;32m    390\u001B[0m \u001B[38;5;124;03m    apply the function to my values; return a block if we are not\u001B[39;00m\n\u001B[0;32m    391\u001B[0m \u001B[38;5;124;03m    one\u001B[39;00m\n\u001B[0;32m    392\u001B[0m \u001B[38;5;124;03m    \"\"\"\u001B[39;00m\n\u001B[1;32m--> 393\u001B[0m     result \u001B[38;5;241m=\u001B[39m func(\u001B[38;5;28mself\u001B[39m\u001B[38;5;241m.\u001B[39mvalues, \u001B[38;5;241m*\u001B[39m\u001B[38;5;241m*\u001B[39mkwargs)\n\u001B[0;32m    395\u001B[0m     result \u001B[38;5;241m=\u001B[39m maybe_coerce_values(result)\n\u001B[0;32m    396\u001B[0m     \u001B[38;5;28;01mreturn\u001B[39;00m \u001B[38;5;28mself\u001B[39m\u001B[38;5;241m.\u001B[39m_split_op_result(result)\n",
      "File \u001B[1;32m~\\PycharmProjects\\pythonProject1\\venv\\lib\\site-packages\\pandas\\core\\groupby\\groupby.py:1973\u001B[0m, in \u001B[0;36mGroupBy._cython_agg_general.<locals>.array_func\u001B[1;34m(values)\u001B[0m\n\u001B[0;32m   1971\u001B[0m \u001B[38;5;28;01mdef\u001B[39;00m \u001B[38;5;21marray_func\u001B[39m(values: ArrayLike) \u001B[38;5;241m-\u001B[39m\u001B[38;5;241m>\u001B[39m ArrayLike:\n\u001B[0;32m   1972\u001B[0m     \u001B[38;5;28;01mtry\u001B[39;00m:\n\u001B[1;32m-> 1973\u001B[0m         result \u001B[38;5;241m=\u001B[39m \u001B[38;5;28mself\u001B[39m\u001B[38;5;241m.\u001B[39m_grouper\u001B[38;5;241m.\u001B[39m_cython_operation(\n\u001B[0;32m   1974\u001B[0m             \u001B[38;5;124m\"\u001B[39m\u001B[38;5;124maggregate\u001B[39m\u001B[38;5;124m\"\u001B[39m,\n\u001B[0;32m   1975\u001B[0m             values,\n\u001B[0;32m   1976\u001B[0m             how,\n\u001B[0;32m   1977\u001B[0m             axis\u001B[38;5;241m=\u001B[39mdata\u001B[38;5;241m.\u001B[39mndim \u001B[38;5;241m-\u001B[39m \u001B[38;5;241m1\u001B[39m,\n\u001B[0;32m   1978\u001B[0m             min_count\u001B[38;5;241m=\u001B[39mmin_count,\n\u001B[0;32m   1979\u001B[0m             \u001B[38;5;241m*\u001B[39m\u001B[38;5;241m*\u001B[39mkwargs,\n\u001B[0;32m   1980\u001B[0m         )\n\u001B[0;32m   1981\u001B[0m     \u001B[38;5;28;01mexcept\u001B[39;00m \u001B[38;5;167;01mNotImplementedError\u001B[39;00m:\n\u001B[0;32m   1982\u001B[0m         \u001B[38;5;66;03m# generally if we have numeric_only=False\u001B[39;00m\n\u001B[0;32m   1983\u001B[0m         \u001B[38;5;66;03m# and non-applicable functions\u001B[39;00m\n\u001B[0;32m   1984\u001B[0m         \u001B[38;5;66;03m# try to python agg\u001B[39;00m\n\u001B[0;32m   1985\u001B[0m         \u001B[38;5;66;03m# TODO: shouldn't min_count matter?\u001B[39;00m\n\u001B[0;32m   1986\u001B[0m         \u001B[38;5;66;03m# TODO: avoid special casing SparseArray here\u001B[39;00m\n\u001B[0;32m   1987\u001B[0m         \u001B[38;5;28;01mif\u001B[39;00m how \u001B[38;5;129;01min\u001B[39;00m [\u001B[38;5;124m\"\u001B[39m\u001B[38;5;124many\u001B[39m\u001B[38;5;124m\"\u001B[39m, \u001B[38;5;124m\"\u001B[39m\u001B[38;5;124mall\u001B[39m\u001B[38;5;124m\"\u001B[39m] \u001B[38;5;129;01mand\u001B[39;00m \u001B[38;5;28misinstance\u001B[39m(values, SparseArray):\n",
      "File \u001B[1;32m~\\PycharmProjects\\pythonProject1\\venv\\lib\\site-packages\\pandas\\core\\groupby\\ops.py:831\u001B[0m, in \u001B[0;36mBaseGrouper._cython_operation\u001B[1;34m(self, kind, values, how, axis, min_count, **kwargs)\u001B[0m\n\u001B[0;32m    829\u001B[0m ids, _, _ \u001B[38;5;241m=\u001B[39m \u001B[38;5;28mself\u001B[39m\u001B[38;5;241m.\u001B[39mgroup_info\n\u001B[0;32m    830\u001B[0m ngroups \u001B[38;5;241m=\u001B[39m \u001B[38;5;28mself\u001B[39m\u001B[38;5;241m.\u001B[39mngroups\n\u001B[1;32m--> 831\u001B[0m \u001B[38;5;28;01mreturn\u001B[39;00m cy_op\u001B[38;5;241m.\u001B[39mcython_operation(\n\u001B[0;32m    832\u001B[0m     values\u001B[38;5;241m=\u001B[39mvalues,\n\u001B[0;32m    833\u001B[0m     axis\u001B[38;5;241m=\u001B[39maxis,\n\u001B[0;32m    834\u001B[0m     min_count\u001B[38;5;241m=\u001B[39mmin_count,\n\u001B[0;32m    835\u001B[0m     comp_ids\u001B[38;5;241m=\u001B[39mids,\n\u001B[0;32m    836\u001B[0m     ngroups\u001B[38;5;241m=\u001B[39mngroups,\n\u001B[0;32m    837\u001B[0m     \u001B[38;5;241m*\u001B[39m\u001B[38;5;241m*\u001B[39mkwargs,\n\u001B[0;32m    838\u001B[0m )\n",
      "File \u001B[1;32m~\\PycharmProjects\\pythonProject1\\venv\\lib\\site-packages\\pandas\\core\\groupby\\ops.py:550\u001B[0m, in \u001B[0;36mWrappedCythonOp.cython_operation\u001B[1;34m(self, values, axis, min_count, comp_ids, ngroups, **kwargs)\u001B[0m\n\u001B[0;32m    539\u001B[0m \u001B[38;5;28;01mif\u001B[39;00m \u001B[38;5;129;01mnot\u001B[39;00m \u001B[38;5;28misinstance\u001B[39m(values, np\u001B[38;5;241m.\u001B[39mndarray):\n\u001B[0;32m    540\u001B[0m     \u001B[38;5;66;03m# i.e. ExtensionArray\u001B[39;00m\n\u001B[0;32m    541\u001B[0m     \u001B[38;5;28;01mreturn\u001B[39;00m values\u001B[38;5;241m.\u001B[39m_groupby_op(\n\u001B[0;32m    542\u001B[0m         how\u001B[38;5;241m=\u001B[39m\u001B[38;5;28mself\u001B[39m\u001B[38;5;241m.\u001B[39mhow,\n\u001B[0;32m    543\u001B[0m         has_dropped_na\u001B[38;5;241m=\u001B[39m\u001B[38;5;28mself\u001B[39m\u001B[38;5;241m.\u001B[39mhas_dropped_na,\n\u001B[1;32m   (...)\u001B[0m\n\u001B[0;32m    547\u001B[0m         \u001B[38;5;241m*\u001B[39m\u001B[38;5;241m*\u001B[39mkwargs,\n\u001B[0;32m    548\u001B[0m     )\n\u001B[1;32m--> 550\u001B[0m \u001B[38;5;28;01mreturn\u001B[39;00m \u001B[38;5;28mself\u001B[39m\u001B[38;5;241m.\u001B[39m_cython_op_ndim_compat(\n\u001B[0;32m    551\u001B[0m     values,\n\u001B[0;32m    552\u001B[0m     min_count\u001B[38;5;241m=\u001B[39mmin_count,\n\u001B[0;32m    553\u001B[0m     ngroups\u001B[38;5;241m=\u001B[39mngroups,\n\u001B[0;32m    554\u001B[0m     comp_ids\u001B[38;5;241m=\u001B[39mcomp_ids,\n\u001B[0;32m    555\u001B[0m     mask\u001B[38;5;241m=\u001B[39m\u001B[38;5;28;01mNone\u001B[39;00m,\n\u001B[0;32m    556\u001B[0m     \u001B[38;5;241m*\u001B[39m\u001B[38;5;241m*\u001B[39mkwargs,\n\u001B[0;32m    557\u001B[0m )\n",
      "File \u001B[1;32m~\\PycharmProjects\\pythonProject1\\venv\\lib\\site-packages\\pandas\\core\\groupby\\ops.py:344\u001B[0m, in \u001B[0;36mWrappedCythonOp._cython_op_ndim_compat\u001B[1;34m(self, values, min_count, ngroups, comp_ids, mask, result_mask, **kwargs)\u001B[0m\n\u001B[0;32m    341\u001B[0m     \u001B[38;5;66;03m# otherwise we have OHLC\u001B[39;00m\n\u001B[0;32m    342\u001B[0m     \u001B[38;5;28;01mreturn\u001B[39;00m res\u001B[38;5;241m.\u001B[39mT\n\u001B[1;32m--> 344\u001B[0m \u001B[38;5;28;01mreturn\u001B[39;00m \u001B[38;5;28mself\u001B[39m\u001B[38;5;241m.\u001B[39m_call_cython_op(\n\u001B[0;32m    345\u001B[0m     values,\n\u001B[0;32m    346\u001B[0m     min_count\u001B[38;5;241m=\u001B[39mmin_count,\n\u001B[0;32m    347\u001B[0m     ngroups\u001B[38;5;241m=\u001B[39mngroups,\n\u001B[0;32m    348\u001B[0m     comp_ids\u001B[38;5;241m=\u001B[39mcomp_ids,\n\u001B[0;32m    349\u001B[0m     mask\u001B[38;5;241m=\u001B[39mmask,\n\u001B[0;32m    350\u001B[0m     result_mask\u001B[38;5;241m=\u001B[39mresult_mask,\n\u001B[0;32m    351\u001B[0m     \u001B[38;5;241m*\u001B[39m\u001B[38;5;241m*\u001B[39mkwargs,\n\u001B[0;32m    352\u001B[0m )\n",
      "File \u001B[1;32m~\\PycharmProjects\\pythonProject1\\venv\\lib\\site-packages\\pandas\\core\\groupby\\ops.py:418\u001B[0m, in \u001B[0;36mWrappedCythonOp._call_cython_op\u001B[1;34m(self, values, min_count, ngroups, comp_ids, mask, result_mask, **kwargs)\u001B[0m\n\u001B[0;32m    407\u001B[0m counts \u001B[38;5;241m=\u001B[39m np\u001B[38;5;241m.\u001B[39mzeros(ngroups, dtype\u001B[38;5;241m=\u001B[39mnp\u001B[38;5;241m.\u001B[39mint64)\n\u001B[0;32m    408\u001B[0m \u001B[38;5;28;01mif\u001B[39;00m \u001B[38;5;28mself\u001B[39m\u001B[38;5;241m.\u001B[39mhow \u001B[38;5;129;01min\u001B[39;00m [\n\u001B[0;32m    409\u001B[0m     \u001B[38;5;124m\"\u001B[39m\u001B[38;5;124midxmin\u001B[39m\u001B[38;5;124m\"\u001B[39m,\n\u001B[0;32m    410\u001B[0m     \u001B[38;5;124m\"\u001B[39m\u001B[38;5;124midxmax\u001B[39m\u001B[38;5;124m\"\u001B[39m,\n\u001B[1;32m   (...)\u001B[0m\n\u001B[0;32m    416\u001B[0m     \u001B[38;5;124m\"\u001B[39m\u001B[38;5;124msum\u001B[39m\u001B[38;5;124m\"\u001B[39m,\n\u001B[0;32m    417\u001B[0m ]:\n\u001B[1;32m--> 418\u001B[0m     func(\n\u001B[0;32m    419\u001B[0m         out\u001B[38;5;241m=\u001B[39mresult,\n\u001B[0;32m    420\u001B[0m         counts\u001B[38;5;241m=\u001B[39mcounts,\n\u001B[0;32m    421\u001B[0m         values\u001B[38;5;241m=\u001B[39mvalues,\n\u001B[0;32m    422\u001B[0m         labels\u001B[38;5;241m=\u001B[39mcomp_ids,\n\u001B[0;32m    423\u001B[0m         min_count\u001B[38;5;241m=\u001B[39mmin_count,\n\u001B[0;32m    424\u001B[0m         mask\u001B[38;5;241m=\u001B[39mmask,\n\u001B[0;32m    425\u001B[0m         result_mask\u001B[38;5;241m=\u001B[39mresult_mask,\n\u001B[0;32m    426\u001B[0m         is_datetimelike\u001B[38;5;241m=\u001B[39mis_datetimelike,\n\u001B[0;32m    427\u001B[0m         \u001B[38;5;241m*\u001B[39m\u001B[38;5;241m*\u001B[39mkwargs,\n\u001B[0;32m    428\u001B[0m     )\n\u001B[0;32m    429\u001B[0m \u001B[38;5;28;01melif\u001B[39;00m \u001B[38;5;28mself\u001B[39m\u001B[38;5;241m.\u001B[39mhow \u001B[38;5;129;01min\u001B[39;00m [\u001B[38;5;124m\"\u001B[39m\u001B[38;5;124msem\u001B[39m\u001B[38;5;124m\"\u001B[39m, \u001B[38;5;124m\"\u001B[39m\u001B[38;5;124mstd\u001B[39m\u001B[38;5;124m\"\u001B[39m, \u001B[38;5;124m\"\u001B[39m\u001B[38;5;124mvar\u001B[39m\u001B[38;5;124m\"\u001B[39m, \u001B[38;5;124m\"\u001B[39m\u001B[38;5;124mohlc\u001B[39m\u001B[38;5;124m\"\u001B[39m, \u001B[38;5;124m\"\u001B[39m\u001B[38;5;124mprod\u001B[39m\u001B[38;5;124m\"\u001B[39m, \u001B[38;5;124m\"\u001B[39m\u001B[38;5;124mmedian\u001B[39m\u001B[38;5;124m\"\u001B[39m]:\n\u001B[0;32m    430\u001B[0m     \u001B[38;5;28;01mif\u001B[39;00m \u001B[38;5;28mself\u001B[39m\u001B[38;5;241m.\u001B[39mhow \u001B[38;5;129;01min\u001B[39;00m [\u001B[38;5;124m\"\u001B[39m\u001B[38;5;124mstd\u001B[39m\u001B[38;5;124m\"\u001B[39m, \u001B[38;5;124m\"\u001B[39m\u001B[38;5;124msem\u001B[39m\u001B[38;5;124m\"\u001B[39m]:\n",
      "File \u001B[1;32mgroupby.pyx:725\u001B[0m, in \u001B[0;36mpandas._libs.groupby.group_sum\u001B[1;34m()\u001B[0m\n",
      "\u001B[1;31mTypeError\u001B[0m: unsupported operand type(s) for +: 'datetime.date' and 'datetime.date'"
     ]
    }
   ],
   "source": [],
   "metadata": {
    "collapsed": false,
    "ExecuteTime": {
     "end_time": "2024-06-05T02:27:44.484428700Z",
     "start_time": "2024-06-05T02:26:41.782384200Z"
    }
   },
   "id": "f415cbaca65f5a77"
  },
  {
   "cell_type": "code",
   "execution_count": 12,
   "outputs": [],
   "source": [
    "import gradio as gr\n",
    "import matplotlib.pyplot as plt"
   ],
   "metadata": {
    "collapsed": false,
    "ExecuteTime": {
     "end_time": "2024-06-05T01:45:11.939129Z",
     "start_time": "2024-06-05T01:45:11.933127300Z"
    }
   },
   "id": "13753b05c6cd08ca"
  },
  {
   "cell_type": "code",
   "execution_count": 43,
   "outputs": [
    {
     "name": "stdout",
     "output_type": "stream",
     "text": [
      "Requirement already satisfied: gradio in c:\\users\\didcvee\\pycharmprojects\\pythonproject1\\venv\\lib\\site-packages (3.10.0)\n",
      "Requirement already satisfied: aiohttp in c:\\users\\didcvee\\pycharmprojects\\pythonproject1\\venv\\lib\\site-packages (from gradio) (3.9.5)\n",
      "Requirement already satisfied: fastapi in c:\\users\\didcvee\\pycharmprojects\\pythonproject1\\venv\\lib\\site-packages (from gradio) (0.111.0)\n",
      "Requirement already satisfied: ffmpy in c:\\users\\didcvee\\pycharmprojects\\pythonproject1\\venv\\lib\\site-packages (from gradio) (0.3.2)\n",
      "Requirement already satisfied: fsspec in c:\\users\\didcvee\\pycharmprojects\\pythonproject1\\venv\\lib\\site-packages (from gradio) (2024.6.0)\n",
      "Requirement already satisfied: h11<0.13,>=0.11 in c:\\users\\didcvee\\pycharmprojects\\pythonproject1\\venv\\lib\\site-packages (from gradio) (0.12.0)\n",
      "Requirement already satisfied: httpx in c:\\users\\didcvee\\pycharmprojects\\pythonproject1\\venv\\lib\\site-packages (from gradio) (0.25.1)\n",
      "Requirement already satisfied: jinja2 in c:\\users\\didcvee\\pycharmprojects\\pythonproject1\\venv\\lib\\site-packages (from gradio) (3.1.4)\n",
      "Requirement already satisfied: markdown-it-py[linkify,plugins] in c:\\users\\didcvee\\pycharmprojects\\pythonproject1\\venv\\lib\\site-packages (from gradio) (3.0.0)\n",
      "Requirement already satisfied: matplotlib in c:\\users\\didcvee\\pycharmprojects\\pythonproject1\\venv\\lib\\site-packages (from gradio) (3.9.0)\n",
      "Requirement already satisfied: numpy in c:\\users\\didcvee\\pycharmprojects\\pythonproject1\\venv\\lib\\site-packages (from gradio) (1.26.4)\n",
      "Requirement already satisfied: orjson in c:\\users\\didcvee\\pycharmprojects\\pythonproject1\\venv\\lib\\site-packages (from gradio) (3.10.3)\n",
      "Requirement already satisfied: pandas in c:\\users\\didcvee\\pycharmprojects\\pythonproject1\\venv\\lib\\site-packages (from gradio) (2.2.2)\n",
      "Requirement already satisfied: paramiko in c:\\users\\didcvee\\pycharmprojects\\pythonproject1\\venv\\lib\\site-packages (from gradio) (3.4.0)\n",
      "Requirement already satisfied: pillow in c:\\users\\didcvee\\pycharmprojects\\pythonproject1\\venv\\lib\\site-packages (from gradio) (10.3.0)\n",
      "Requirement already satisfied: pycryptodome in c:\\users\\didcvee\\pycharmprojects\\pythonproject1\\venv\\lib\\site-packages (from gradio) (3.20.0)\n",
      "Requirement already satisfied: pydantic in c:\\users\\didcvee\\pycharmprojects\\pythonproject1\\venv\\lib\\site-packages (from gradio) (2.7.3)\n",
      "Requirement already satisfied: pydub in c:\\users\\didcvee\\pycharmprojects\\pythonproject1\\venv\\lib\\site-packages (from gradio) (0.25.1)\n",
      "Requirement already satisfied: python-multipart in c:\\users\\didcvee\\pycharmprojects\\pythonproject1\\venv\\lib\\site-packages (from gradio) (0.0.9)\n",
      "Requirement already satisfied: pyyaml in c:\\users\\didcvee\\pycharmprojects\\pythonproject1\\venv\\lib\\site-packages (from gradio) (6.0.1)\n",
      "Requirement already satisfied: requests in c:\\users\\didcvee\\pycharmprojects\\pythonproject1\\venv\\lib\\site-packages (from gradio) (2.32.3)\n",
      "Requirement already satisfied: uvicorn in c:\\users\\didcvee\\pycharmprojects\\pythonproject1\\venv\\lib\\site-packages (from gradio) (0.30.1)\n",
      "Requirement already satisfied: websockets>=10.0 in c:\\users\\didcvee\\pycharmprojects\\pythonproject1\\venv\\lib\\site-packages (from gradio) (11.0.3)\n",
      "Requirement already satisfied: aiosignal>=1.1.2 in c:\\users\\didcvee\\pycharmprojects\\pythonproject1\\venv\\lib\\site-packages (from aiohttp->gradio) (1.3.1)\n",
      "Requirement already satisfied: attrs>=17.3.0 in c:\\users\\didcvee\\pycharmprojects\\pythonproject1\\venv\\lib\\site-packages (from aiohttp->gradio) (23.2.0)\n",
      "Requirement already satisfied: frozenlist>=1.1.1 in c:\\users\\didcvee\\pycharmprojects\\pythonproject1\\venv\\lib\\site-packages (from aiohttp->gradio) (1.4.1)\n",
      "Requirement already satisfied: multidict<7.0,>=4.5 in c:\\users\\didcvee\\pycharmprojects\\pythonproject1\\venv\\lib\\site-packages (from aiohttp->gradio) (6.0.5)\n",
      "Requirement already satisfied: yarl<2.0,>=1.0 in c:\\users\\didcvee\\pycharmprojects\\pythonproject1\\venv\\lib\\site-packages (from aiohttp->gradio) (1.9.4)\n",
      "Requirement already satisfied: async-timeout<5.0,>=4.0 in c:\\users\\didcvee\\pycharmprojects\\pythonproject1\\venv\\lib\\site-packages (from aiohttp->gradio) (4.0.3)\n",
      "Requirement already satisfied: starlette<0.38.0,>=0.37.2 in c:\\users\\didcvee\\pycharmprojects\\pythonproject1\\venv\\lib\\site-packages (from fastapi->gradio) (0.37.2)\n",
      "Requirement already satisfied: typing-extensions>=4.8.0 in c:\\users\\didcvee\\pycharmprojects\\pythonproject1\\venv\\lib\\site-packages (from fastapi->gradio) (4.12.1)\n",
      "Requirement already satisfied: fastapi-cli>=0.0.2 in c:\\users\\didcvee\\pycharmprojects\\pythonproject1\\venv\\lib\\site-packages (from fastapi->gradio) (0.0.4)\n",
      "Requirement already satisfied: ujson!=4.0.2,!=4.1.0,!=4.2.0,!=4.3.0,!=5.0.0,!=5.1.0,>=4.0.1 in c:\\users\\didcvee\\pycharmprojects\\pythonproject1\\venv\\lib\\site-packages (from fastapi->gradio) (5.10.0)\n",
      "Requirement already satisfied: email_validator>=2.0.0 in c:\\users\\didcvee\\pycharmprojects\\pythonproject1\\venv\\lib\\site-packages (from fastapi->gradio) (2.1.1)\n",
      "Requirement already satisfied: anyio in c:\\users\\didcvee\\pycharmprojects\\pythonproject1\\venv\\lib\\site-packages (from httpx->gradio) (3.7.1)\n",
      "Requirement already satisfied: certifi in c:\\users\\didcvee\\pycharmprojects\\pythonproject1\\venv\\lib\\site-packages (from httpx->gradio) (2024.6.2)\n",
      "Requirement already satisfied: httpcore in c:\\users\\didcvee\\pycharmprojects\\pythonproject1\\venv\\lib\\site-packages (from httpx->gradio) (0.15.0)\n",
      "Requirement already satisfied: idna in c:\\users\\didcvee\\pycharmprojects\\pythonproject1\\venv\\lib\\site-packages (from httpx->gradio) (3.7)\n",
      "Requirement already satisfied: sniffio in c:\\users\\didcvee\\pycharmprojects\\pythonproject1\\venv\\lib\\site-packages (from httpx->gradio) (1.3.1)\n",
      "Requirement already satisfied: MarkupSafe>=2.0 in c:\\users\\didcvee\\pycharmprojects\\pythonproject1\\venv\\lib\\site-packages (from jinja2->gradio) (2.1.5)\n",
      "Requirement already satisfied: annotated-types>=0.4.0 in c:\\users\\didcvee\\pycharmprojects\\pythonproject1\\venv\\lib\\site-packages (from pydantic->gradio) (0.7.0)\n",
      "Requirement already satisfied: pydantic-core==2.18.4 in c:\\users\\didcvee\\pycharmprojects\\pythonproject1\\venv\\lib\\site-packages (from pydantic->gradio) (2.18.4)\n",
      "Requirement already satisfied: mdurl~=0.1 in c:\\users\\didcvee\\pycharmprojects\\pythonproject1\\venv\\lib\\site-packages (from markdown-it-py[linkify,plugins]->gradio) (0.1.2)\n",
      "Requirement already satisfied: mdit-py-plugins in c:\\users\\didcvee\\pycharmprojects\\pythonproject1\\venv\\lib\\site-packages (from markdown-it-py[linkify,plugins]->gradio) (0.4.1)\n",
      "Requirement already satisfied: linkify-it-py<3,>=1 in c:\\users\\didcvee\\pycharmprojects\\pythonproject1\\venv\\lib\\site-packages (from markdown-it-py[linkify,plugins]->gradio) (2.0.3)\n",
      "Requirement already satisfied: contourpy>=1.0.1 in c:\\users\\didcvee\\pycharmprojects\\pythonproject1\\venv\\lib\\site-packages (from matplotlib->gradio) (1.2.1)\n",
      "Requirement already satisfied: cycler>=0.10 in c:\\users\\didcvee\\pycharmprojects\\pythonproject1\\venv\\lib\\site-packages (from matplotlib->gradio) (0.12.1)\n",
      "Requirement already satisfied: fonttools>=4.22.0 in c:\\users\\didcvee\\pycharmprojects\\pythonproject1\\venv\\lib\\site-packages (from matplotlib->gradio) (4.53.0)\n",
      "Requirement already satisfied: kiwisolver>=1.3.1 in c:\\users\\didcvee\\pycharmprojects\\pythonproject1\\venv\\lib\\site-packages (from matplotlib->gradio) (1.4.5)\n",
      "Requirement already satisfied: packaging>=20.0 in c:\\users\\didcvee\\pycharmprojects\\pythonproject1\\venv\\lib\\site-packages (from matplotlib->gradio) (24.0)\n",
      "Requirement already satisfied: pyparsing>=2.3.1 in c:\\users\\didcvee\\pycharmprojects\\pythonproject1\\venv\\lib\\site-packages (from matplotlib->gradio) (3.1.2)\n",
      "Requirement already satisfied: python-dateutil>=2.7 in c:\\users\\didcvee\\pycharmprojects\\pythonproject1\\venv\\lib\\site-packages (from matplotlib->gradio) (2.9.0.post0)\n",
      "Requirement already satisfied: importlib-resources>=3.2.0 in c:\\users\\didcvee\\pycharmprojects\\pythonproject1\\venv\\lib\\site-packages (from matplotlib->gradio) (6.4.0)\n",
      "Requirement already satisfied: pytz>=2020.1 in c:\\users\\didcvee\\pycharmprojects\\pythonproject1\\venv\\lib\\site-packages (from pandas->gradio) (2024.1)\n",
      "Requirement already satisfied: tzdata>=2022.7 in c:\\users\\didcvee\\pycharmprojects\\pythonproject1\\venv\\lib\\site-packages (from pandas->gradio) (2024.1)\n",
      "Requirement already satisfied: bcrypt>=3.2 in c:\\users\\didcvee\\pycharmprojects\\pythonproject1\\venv\\lib\\site-packages (from paramiko->gradio) (4.1.3)\n",
      "Requirement already satisfied: cryptography>=3.3 in c:\\users\\didcvee\\pycharmprojects\\pythonproject1\\venv\\lib\\site-packages (from paramiko->gradio) (42.0.8)\n",
      "Requirement already satisfied: pynacl>=1.5 in c:\\users\\didcvee\\pycharmprojects\\pythonproject1\\venv\\lib\\site-packages (from paramiko->gradio) (1.5.0)\n",
      "Requirement already satisfied: charset-normalizer<4,>=2 in c:\\users\\didcvee\\pycharmprojects\\pythonproject1\\venv\\lib\\site-packages (from requests->gradio) (3.3.2)\n",
      "Requirement already satisfied: urllib3<3,>=1.21.1 in c:\\users\\didcvee\\pycharmprojects\\pythonproject1\\venv\\lib\\site-packages (from requests->gradio) (2.2.1)\n",
      "Requirement already satisfied: click>=7.0 in c:\\users\\didcvee\\pycharmprojects\\pythonproject1\\venv\\lib\\site-packages (from uvicorn->gradio) (8.1.7)\n",
      "Requirement already satisfied: colorama in c:\\users\\didcvee\\pycharmprojects\\pythonproject1\\venv\\lib\\site-packages (from click>=7.0->uvicorn->gradio) (0.4.6)\n",
      "Requirement already satisfied: cffi>=1.12 in c:\\users\\didcvee\\pycharmprojects\\pythonproject1\\venv\\lib\\site-packages (from cryptography>=3.3->paramiko->gradio) (1.16.0)\n",
      "Requirement already satisfied: dnspython>=2.0.0 in c:\\users\\didcvee\\pycharmprojects\\pythonproject1\\venv\\lib\\site-packages (from email_validator>=2.0.0->fastapi->gradio) (2.6.1)\n",
      "Requirement already satisfied: typer>=0.12.3 in c:\\users\\didcvee\\pycharmprojects\\pythonproject1\\venv\\lib\\site-packages (from fastapi-cli>=0.0.2->fastapi->gradio) (0.12.3)\n",
      "Requirement already satisfied: zipp>=3.1.0 in c:\\users\\didcvee\\pycharmprojects\\pythonproject1\\venv\\lib\\site-packages (from importlib-resources>=3.2.0->matplotlib->gradio) (3.19.1)\n",
      "Requirement already satisfied: uc-micro-py in c:\\users\\didcvee\\pycharmprojects\\pythonproject1\\venv\\lib\\site-packages (from linkify-it-py<3,>=1->markdown-it-py[linkify,plugins]->gradio) (1.0.3)\n",
      "Requirement already satisfied: six>=1.5 in c:\\users\\didcvee\\pycharmprojects\\pythonproject1\\venv\\lib\\site-packages (from python-dateutil>=2.7->matplotlib->gradio) (1.16.0)\n",
      "Requirement already satisfied: exceptiongroup in c:\\users\\didcvee\\pycharmprojects\\pythonproject1\\venv\\lib\\site-packages (from anyio->httpx->gradio) (1.2.1)\n",
      "Requirement already satisfied: httptools>=0.5.0 in c:\\users\\didcvee\\pycharmprojects\\pythonproject1\\venv\\lib\\site-packages (from uvicorn->gradio) (0.6.1)\n",
      "Requirement already satisfied: python-dotenv>=0.13 in c:\\users\\didcvee\\pycharmprojects\\pythonproject1\\venv\\lib\\site-packages (from uvicorn->gradio) (1.0.1)\n",
      "Requirement already satisfied: watchfiles>=0.13 in c:\\users\\didcvee\\pycharmprojects\\pythonproject1\\venv\\lib\\site-packages (from uvicorn->gradio) (0.22.0)\n",
      "Requirement already satisfied: pycparser in c:\\users\\didcvee\\pycharmprojects\\pythonproject1\\venv\\lib\\site-packages (from cffi>=1.12->cryptography>=3.3->paramiko->gradio) (2.22)\n",
      "Requirement already satisfied: shellingham>=1.3.0 in c:\\users\\didcvee\\pycharmprojects\\pythonproject1\\venv\\lib\\site-packages (from typer>=0.12.3->fastapi-cli>=0.0.2->fastapi->gradio) (1.5.4)\n",
      "Requirement already satisfied: rich>=10.11.0 in c:\\users\\didcvee\\pycharmprojects\\pythonproject1\\venv\\lib\\site-packages (from typer>=0.12.3->fastapi-cli>=0.0.2->fastapi->gradio) (13.7.1)\n",
      "Requirement already satisfied: pygments<3.0.0,>=2.13.0 in c:\\users\\didcvee\\pycharmprojects\\pythonproject1\\venv\\lib\\site-packages (from rich>=10.11.0->typer>=0.12.3->fastapi-cli>=0.0.2->fastapi->gradio) (2.18.0)\n"
     ]
    },
    {
     "name": "stderr",
     "output_type": "stream",
     "text": [
      "\n",
      "[notice] A new release of pip is available: 23.2.1 -> 24.0\n",
      "[notice] To update, run: python.exe -m pip install --upgrade pip\n"
     ]
    }
   ],
   "source": [
    "!pip install gradio"
   ],
   "metadata": {
    "collapsed": false,
    "ExecuteTime": {
     "end_time": "2024-06-05T02:14:41.329069600Z",
     "start_time": "2024-06-05T02:14:39.706619800Z"
    }
   },
   "id": "dde64bcb8f68f608"
  },
  {
   "cell_type": "code",
   "execution_count": 53,
   "outputs": [
    {
     "data": {
      "text/plain": "<IPython.lib.display.IFrame at 0x16eeb030340>",
      "text/html": "\n        <iframe\n            width=\"100%\"\n            height=\"650\"\n            src=\"http://127.0.0.1:8050/\"\n            frameborder=\"0\"\n            allowfullscreen\n            \n        ></iframe>\n        "
     },
     "metadata": {},
     "output_type": "display_data"
    }
   ],
   "source": [
    "import dash\n",
    "import dash_core_components as dcc\n",
    "import dash_html_components as html\n",
    "from dash.dependencies import Input, Output\n",
    "import plotly.express as px\n",
    "import pandas as pd\n",
    "\n",
    "\n",
    "\n",
    "# Преобразование данных\n",
    "df['datetime'] = pd.to_datetime(df['Date'].astype(str) + ' ' + df['Time'])\n",
    "df['entries_diff'] = df.groupby('turnstile')['Entries'].diff().fillna(0)\n",
    "df['exits_diff'] = df.groupby('turnstile')['Exits'].diff().fillna(0)\n",
    "df['traffic'] = df['entries_diff'] + df['exits_diff']\n",
    "\n",
    "# Создание приложения Dash\n",
    "app = dash.Dash(__name__)\n",
    "\n",
    "app.layout = html.Div([\n",
    "    html.H1(\"Анализ данных станции метро\"),\n",
    "    html.Label(\"Выберите станцию:\"),\n",
    "    dcc.Dropdown(\n",
    "        id='station-dropdown',\n",
    "        options=[{'label': station, 'value': station} for station in df['Station'].unique()],\n",
    "        value=df['Station'].unique()[0]\n",
    "    ),\n",
    "    html.Label(\"Выберите временной промежуток:\"),\n",
    "    dcc.DatePickerRange(\n",
    "        id='date-picker',\n",
    "        start_date=df['datetime'].min().date(),\n",
    "        end_date=df['datetime'].max().date()\n",
    "    ),\n",
    "    dcc.Graph(id='traffic-graph'),\n",
    "    dcc.Graph(id='capacity-graph'),\n",
    "    dcc.Graph(id='top-stations-graph'),\n",
    "    dcc.Graph(id='average-passengers-graph')\n",
    "])\n",
    "\n",
    "@app.callback(\n",
    "    [Output('traffic-graph', 'figure'),\n",
    "     Output('capacity-graph', 'figure'),\n",
    "     Output('top-stations-graph', 'figure'),\n",
    "     Output('average-passengers-graph', 'figure')],\n",
    "    [Input('station-dropdown', 'value'),\n",
    "     Input('date-picker', 'start_date'),\n",
    "     Input('date-picker', 'end_date')]\n",
    ")\n",
    "def update_graphs(selected_station, start_date, end_date):\n",
    "    filtered_df = df[(df['Station'] == selected_station) & \n",
    "                     (df['datetime'] >= pd.to_datetime(start_date)) & \n",
    "                     (df['datetime'] <= pd.to_datetime(end_date))]\n",
    "\n",
    "    # 1. Загруженность станции\n",
    "    max_traffic = df['traffic'].max()\n",
    "    filtered_df['load_percent'] = (filtered_df['traffic'] / max_traffic) * 100\n",
    "    load_fig = px.line(filtered_df, x='datetime', y='load_percent', title='Загруженность станции (%)')\n",
    "\n",
    "    # 2. Пропускная способность\n",
    "    capacity_fig = px.line(filtered_df, x='datetime', y='traffic', title='Пропускная способность станции')\n",
    "\n",
    "    # 3. Топ загруженных станций\n",
    "    top_stations = df.groupby('Station')['traffic'].sum().reset_index()\n",
    "    top_stations = top_stations.sort_values(by='traffic', ascending=False).head(10)\n",
    "    top_stations_fig = px.bar(top_stations, x='Station', y='traffic', title='Топ загруженных станций')\n",
    "\n",
    "    # 4. Среднее количество пассажиров\n",
    "    avg_passengers = filtered_df['traffic'].mean()\n",
    "    avg_passengers_fig = px.line(filtered_df, x='datetime', y='traffic', title=f'Среднее количество пассажиров: {avg_passengers:.2f}')\n",
    "\n",
    "    return load_fig, capacity_fig, top_stations_fig, avg_passengers_fig\n",
    "\n",
    "if __name__ == '__main__':\n",
    "    app.run_server(debug=True)"
   ],
   "metadata": {
    "collapsed": false,
    "ExecuteTime": {
     "end_time": "2024-06-05T02:31:59.544181300Z",
     "start_time": "2024-06-05T02:31:47.067176800Z"
    }
   },
   "id": "6b480258d0400206"
  },
  {
   "cell_type": "code",
   "execution_count": null,
   "outputs": [],
   "source": [],
   "metadata": {
    "collapsed": false
   },
   "id": "5f17484d7dd39dd5"
  }
 ],
 "metadata": {
  "kernelspec": {
   "display_name": "Python 3",
   "language": "python",
   "name": "python3"
  },
  "language_info": {
   "codemirror_mode": {
    "name": "ipython",
    "version": 2
   },
   "file_extension": ".py",
   "mimetype": "text/x-python",
   "name": "python",
   "nbconvert_exporter": "python",
   "pygments_lexer": "ipython2",
   "version": "2.7.6"
  }
 },
 "nbformat": 4,
 "nbformat_minor": 5
}
