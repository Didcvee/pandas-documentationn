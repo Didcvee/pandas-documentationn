{
 "cells": [
  {
   "cell_type": "code",
   "execution_count": 1,
   "id": "initial_id",
   "metadata": {
    "collapsed": true,
    "ExecuteTime": {
     "end_time": "2024-06-02T20:02:25.174135200Z",
     "start_time": "2024-06-02T20:02:25.037141200Z"
    }
   },
   "outputs": [],
   "source": [
    "from clickhouse_driver import Client"
   ]
  },
  {
   "cell_type": "code",
   "execution_count": 19,
   "outputs": [
    {
     "name": "stdout",
     "output_type": "stream",
     "text": [
      "Таблица metro_entries существует в базе данных test.\n"
     ]
    }
   ],
   "source": [
    "database = 'test'\n",
    "table = 'metro_entries'\n",
    "# Подключение к ClickHouse\n",
    "client = Client(host='localhost', database=database)\n",
    "\n",
    "# Создание базы данных\n",
    "client.execute('CREATE DATABASE IF NOT EXISTS metro_data')\n",
    "\n",
    "# Создание таблицы\n",
    "client.execute('''\n",
    "CREATE TABLE IF NOT EXISTS metro_entries (\n",
    "    station String,\n",
    "    line String,\n",
    "    year UInt16,\n",
    "    quarter String,\n",
    "    entries UInt32,\n",
    "    exits UInt32,\n",
    "    global_id UInt64\n",
    ") ENGINE = MergeTree()\n",
    "ORDER BY (station, line, year, quarter)\n",
    "''')\n",
    "\n",
    "\n",
    "\n",
    "query = f'''\n",
    "SELECT count(*) \n",
    "FROM system.tables \n",
    "WHERE database = '{database}' AND name = '{table}'\n",
    "'''\n",
    "\n",
    "# Выполнение запроса\n",
    "table_exists = client.execute(query)[0][0]\n",
    "\n",
    "# Вывод результата\n",
    "if table_exists:\n",
    "    print(f\"Таблица {table} существует в базе данных {database}.\")\n",
    "else:\n",
    "    print(f\"Таблица {table} не существует в базе данных {database}.\")"
   ],
   "metadata": {
    "collapsed": false,
    "ExecuteTime": {
     "end_time": "2024-06-02T20:26:23.869045900Z",
     "start_time": "2024-06-02T20:26:23.700024600Z"
    }
   },
   "id": "da0ecdec47df48bd"
  },
  {
   "cell_type": "code",
   "execution_count": 4,
   "outputs": [],
   "source": [
    "import pandas as pd"
   ],
   "metadata": {
    "collapsed": false,
    "ExecuteTime": {
     "end_time": "2024-06-02T20:06:42.284553400Z",
     "start_time": "2024-06-02T20:06:41.985556900Z"
    }
   },
   "id": "279fd4546c2ee70d"
  },
  {
   "cell_type": "code",
   "execution_count": 36,
   "outputs": [
    {
     "name": "stdout",
     "output_type": "stream",
     "text": [
      "                 station                       line  year    quarter  \\\n",
      "0  Станция метрополитена                      Линия   Год    Квартал   \n",
      "1                 Митино  Арбатско-Покровская линия  2021  I квартал   \n",
      "2          Волоколамская  Арбатско-Покровская линия  2021  I квартал   \n",
      "3               Строгино  Арбатско-Покровская линия  2021  I квартал   \n",
      "4             Крылатское  Арбатско-Покровская линия  2021  I квартал   \n",
      "\n",
      "            entries              exits   global_id  \n",
      "0  Входы пассажиров  Выходы пассажиров   global_id  \n",
      "1           1913498            1829031  1138975996  \n",
      "2           1236714            1222309  1138975997  \n",
      "3           1938816            1903731  1138975999  \n",
      "4           1849616            1818208  1138976000  \n"
     ]
    },
    {
     "ename": "AttributeError",
     "evalue": "'Client' object has no attribute 'Error'",
     "output_type": "error",
     "traceback": [
      "\u001B[1;31m---------------------------------------------------------------------------\u001B[0m",
      "\u001B[1;31merror\u001B[0m                                     Traceback (most recent call last)",
      "File \u001B[1;32m~\\PycharmProjects\\pythonProject1\\venv\\lib\\site-packages\\clickhouse_driver\\columns\\base.py:203\u001B[0m, in \u001B[0;36mFormatColumn.write_items\u001B[1;34m(self, items, buf)\u001B[0m\n\u001B[0;32m    202\u001B[0m \u001B[38;5;28;01mtry\u001B[39;00m:\n\u001B[1;32m--> 203\u001B[0m     buf\u001B[38;5;241m.\u001B[39mwrite(\u001B[43ms\u001B[49m\u001B[38;5;241;43m.\u001B[39;49m\u001B[43mpack\u001B[49m\u001B[43m(\u001B[49m\u001B[38;5;241;43m*\u001B[39;49m\u001B[43mitems\u001B[49m\u001B[43m)\u001B[49m)\n\u001B[0;32m    205\u001B[0m \u001B[38;5;28;01mexcept\u001B[39;00m struct_error \u001B[38;5;28;01mas\u001B[39;00m e:\n",
      "\u001B[1;31merror\u001B[0m: required argument is not an integer",
      "\nDuring handling of the above exception, another exception occurred:\n",
      "\u001B[1;31mStructPackException\u001B[0m                       Traceback (most recent call last)",
      "File \u001B[1;32m~\\PycharmProjects\\pythonProject1\\venv\\lib\\site-packages\\clickhouse_driver\\columns\\service.py:167\u001B[0m, in \u001B[0;36mwrite_column\u001B[1;34m(context, column_name, column_spec, items, buf, types_check)\u001B[0m\n\u001B[0;32m    166\u001B[0m     column\u001B[38;5;241m.\u001B[39mwrite_state_prefix(buf)\n\u001B[1;32m--> 167\u001B[0m     \u001B[43mcolumn\u001B[49m\u001B[38;5;241;43m.\u001B[39;49m\u001B[43mwrite_data\u001B[49m\u001B[43m(\u001B[49m\u001B[43mitems\u001B[49m\u001B[43m,\u001B[49m\u001B[43m \u001B[49m\u001B[43mbuf\u001B[49m\u001B[43m)\u001B[49m\n\u001B[0;32m    169\u001B[0m \u001B[38;5;28;01mexcept\u001B[39;00m column_exceptions\u001B[38;5;241m.\u001B[39mColumnTypeMismatchException \u001B[38;5;28;01mas\u001B[39;00m e:\n",
      "File \u001B[1;32m~\\PycharmProjects\\pythonProject1\\venv\\lib\\site-packages\\clickhouse_driver\\columns\\base.py:145\u001B[0m, in \u001B[0;36mColumn.write_data\u001B[1;34m(self, items, buf)\u001B[0m\n\u001B[0;32m    143\u001B[0m     \u001B[38;5;28mself\u001B[39m\u001B[38;5;241m.\u001B[39m_write_nulls_map(items, buf)\n\u001B[1;32m--> 145\u001B[0m \u001B[38;5;28;43mself\u001B[39;49m\u001B[38;5;241;43m.\u001B[39;49m\u001B[43m_write_data\u001B[49m\u001B[43m(\u001B[49m\u001B[43mitems\u001B[49m\u001B[43m,\u001B[49m\u001B[43m \u001B[49m\u001B[43mbuf\u001B[49m\u001B[43m)\u001B[49m\n",
      "File \u001B[1;32m~\\PycharmProjects\\pythonProject1\\venv\\lib\\site-packages\\clickhouse_driver\\columns\\base.py:149\u001B[0m, in \u001B[0;36mColumn._write_data\u001B[1;34m(self, items, buf)\u001B[0m\n\u001B[0;32m    148\u001B[0m prepared \u001B[38;5;241m=\u001B[39m \u001B[38;5;28mself\u001B[39m\u001B[38;5;241m.\u001B[39mprepare_items(items)\n\u001B[1;32m--> 149\u001B[0m \u001B[38;5;28;43mself\u001B[39;49m\u001B[38;5;241;43m.\u001B[39;49m\u001B[43mwrite_items\u001B[49m\u001B[43m(\u001B[49m\u001B[43mprepared\u001B[49m\u001B[43m,\u001B[49m\u001B[43m \u001B[49m\u001B[43mbuf\u001B[49m\u001B[43m)\u001B[49m\n",
      "File \u001B[1;32m~\\PycharmProjects\\pythonProject1\\venv\\lib\\site-packages\\clickhouse_driver\\columns\\base.py:206\u001B[0m, in \u001B[0;36mFormatColumn.write_items\u001B[1;34m(self, items, buf)\u001B[0m\n\u001B[0;32m    205\u001B[0m \u001B[38;5;28;01mexcept\u001B[39;00m struct_error \u001B[38;5;28;01mas\u001B[39;00m e:\n\u001B[1;32m--> 206\u001B[0m     \u001B[38;5;28;01mraise\u001B[39;00m exceptions\u001B[38;5;241m.\u001B[39mStructPackException(e)\n",
      "\u001B[1;31mStructPackException\u001B[0m: required argument is not an integer",
      "\nDuring handling of the above exception, another exception occurred:\n",
      "\u001B[1;31mTypeMismatchError\u001B[0m                         Traceback (most recent call last)",
      "Cell \u001B[1;32mIn[36], line 19\u001B[0m\n\u001B[0;32m     18\u001B[0m \u001B[38;5;28;01mtry\u001B[39;00m:\n\u001B[1;32m---> 19\u001B[0m     \u001B[43mclient\u001B[49m\u001B[38;5;241;43m.\u001B[39;49m\u001B[43mexecute\u001B[49m\u001B[43m(\u001B[49m\u001B[38;5;124;43m'''\u001B[39;49m\n\u001B[0;32m     20\u001B[0m \u001B[38;5;124;43m    INSERT INTO metro_entries (station, line, year, quarter, entries, exits, global_id) VALUES\u001B[39;49m\n\u001B[0;32m     21\u001B[0m \u001B[38;5;124;43m    \u001B[39;49m\u001B[38;5;124;43m'''\u001B[39;49m\u001B[43m,\u001B[49m\u001B[43m \u001B[49m\u001B[43mdata\u001B[49m\u001B[43m)\u001B[49m\n\u001B[0;32m     22\u001B[0m \u001B[38;5;28;01mexcept\u001B[39;00m \u001B[38;5;167;01mValueError\u001B[39;00m \u001B[38;5;28;01mas\u001B[39;00m ve:\n",
      "File \u001B[1;32m~\\PycharmProjects\\pythonProject1\\venv\\lib\\site-packages\\clickhouse_driver\\client.py:376\u001B[0m, in \u001B[0;36mClient.execute\u001B[1;34m(self, query, params, with_column_types, external_tables, query_id, settings, types_check, columnar)\u001B[0m\n\u001B[0;32m    375\u001B[0m \u001B[38;5;28;01mif\u001B[39;00m is_insert:\n\u001B[1;32m--> 376\u001B[0m     rv \u001B[38;5;241m=\u001B[39m \u001B[38;5;28;43mself\u001B[39;49m\u001B[38;5;241;43m.\u001B[39;49m\u001B[43mprocess_insert_query\u001B[49m\u001B[43m(\u001B[49m\n\u001B[0;32m    377\u001B[0m \u001B[43m        \u001B[49m\u001B[43mquery\u001B[49m\u001B[43m,\u001B[49m\u001B[43m \u001B[49m\u001B[43mparams\u001B[49m\u001B[43m,\u001B[49m\u001B[43m \u001B[49m\u001B[43mexternal_tables\u001B[49m\u001B[38;5;241;43m=\u001B[39;49m\u001B[43mexternal_tables\u001B[49m\u001B[43m,\u001B[49m\n\u001B[0;32m    378\u001B[0m \u001B[43m        \u001B[49m\u001B[43mquery_id\u001B[49m\u001B[38;5;241;43m=\u001B[39;49m\u001B[43mquery_id\u001B[49m\u001B[43m,\u001B[49m\u001B[43m \u001B[49m\u001B[43mtypes_check\u001B[49m\u001B[38;5;241;43m=\u001B[39;49m\u001B[43mtypes_check\u001B[49m\u001B[43m,\u001B[49m\n\u001B[0;32m    379\u001B[0m \u001B[43m        \u001B[49m\u001B[43mcolumnar\u001B[49m\u001B[38;5;241;43m=\u001B[39;49m\u001B[43mcolumnar\u001B[49m\n\u001B[0;32m    380\u001B[0m \u001B[43m    \u001B[49m\u001B[43m)\u001B[49m\n\u001B[0;32m    381\u001B[0m \u001B[38;5;28;01melse\u001B[39;00m:\n",
      "File \u001B[1;32m~\\PycharmProjects\\pythonProject1\\venv\\lib\\site-packages\\clickhouse_driver\\client.py:607\u001B[0m, in \u001B[0;36mClient.process_insert_query\u001B[1;34m(self, query_without_data, data, external_tables, query_id, types_check, columnar)\u001B[0m\n\u001B[0;32m    606\u001B[0m \u001B[38;5;28;01mif\u001B[39;00m sample_block:\n\u001B[1;32m--> 607\u001B[0m     rv \u001B[38;5;241m=\u001B[39m \u001B[38;5;28;43mself\u001B[39;49m\u001B[38;5;241;43m.\u001B[39;49m\u001B[43msend_data\u001B[49m\u001B[43m(\u001B[49m\u001B[43msample_block\u001B[49m\u001B[43m,\u001B[49m\u001B[43m \u001B[49m\u001B[43mdata\u001B[49m\u001B[43m,\u001B[49m\n\u001B[0;32m    608\u001B[0m \u001B[43m                        \u001B[49m\u001B[43mtypes_check\u001B[49m\u001B[38;5;241;43m=\u001B[39;49m\u001B[43mtypes_check\u001B[49m\u001B[43m,\u001B[49m\u001B[43m \u001B[49m\u001B[43mcolumnar\u001B[49m\u001B[38;5;241;43m=\u001B[39;49m\u001B[43mcolumnar\u001B[49m\u001B[43m)\u001B[49m\n\u001B[0;32m    609\u001B[0m     \u001B[38;5;28mself\u001B[39m\u001B[38;5;241m.\u001B[39mreceive_end_of_insert_query()\n",
      "File \u001B[1;32m~\\PycharmProjects\\pythonProject1\\venv\\lib\\site-packages\\clickhouse_driver\\client.py:660\u001B[0m, in \u001B[0;36mClient.send_data\u001B[1;34m(self, sample_block, data, types_check, columnar)\u001B[0m\n\u001B[0;32m    658\u001B[0m block \u001B[38;5;241m=\u001B[39m block_cls(sample_block\u001B[38;5;241m.\u001B[39mcolumns_with_types, chunk,\n\u001B[0;32m    659\u001B[0m                   types_check\u001B[38;5;241m=\u001B[39mtypes_check)\n\u001B[1;32m--> 660\u001B[0m \u001B[38;5;28;43mself\u001B[39;49m\u001B[38;5;241;43m.\u001B[39;49m\u001B[43mconnection\u001B[49m\u001B[38;5;241;43m.\u001B[39;49m\u001B[43msend_data\u001B[49m\u001B[43m(\u001B[49m\u001B[43mblock\u001B[49m\u001B[43m)\u001B[49m\n\u001B[0;32m    661\u001B[0m inserted_rows \u001B[38;5;241m+\u001B[39m\u001B[38;5;241m=\u001B[39m block\u001B[38;5;241m.\u001B[39mnum_rows\n",
      "File \u001B[1;32m~\\PycharmProjects\\pythonProject1\\venv\\lib\\site-packages\\clickhouse_driver\\connection.py:679\u001B[0m, in \u001B[0;36mConnection.send_data\u001B[1;34m(self, block, table_name)\u001B[0m\n\u001B[0;32m    677\u001B[0m     write_binary_str(table_name, \u001B[38;5;28mself\u001B[39m\u001B[38;5;241m.\u001B[39mfout)\n\u001B[1;32m--> 679\u001B[0m \u001B[38;5;28;43mself\u001B[39;49m\u001B[38;5;241;43m.\u001B[39;49m\u001B[43mblock_out\u001B[49m\u001B[38;5;241;43m.\u001B[39;49m\u001B[43mwrite\u001B[49m\u001B[43m(\u001B[49m\u001B[43mblock\u001B[49m\u001B[43m)\u001B[49m\n\u001B[0;32m    680\u001B[0m logger\u001B[38;5;241m.\u001B[39mdebug(\u001B[38;5;124m'\u001B[39m\u001B[38;5;124mBlock \u001B[39m\u001B[38;5;124m\"\u001B[39m\u001B[38;5;132;01m%s\u001B[39;00m\u001B[38;5;124m\"\u001B[39m\u001B[38;5;124m send time: \u001B[39m\u001B[38;5;132;01m%f\u001B[39;00m\u001B[38;5;124m'\u001B[39m, table_name, time() \u001B[38;5;241m-\u001B[39m start)\n",
      "File \u001B[1;32m~\\PycharmProjects\\pythonProject1\\venv\\lib\\site-packages\\clickhouse_driver\\streams\\native.py:43\u001B[0m, in \u001B[0;36mBlockOutputStream.write\u001B[1;34m(self, block)\u001B[0m\n\u001B[0;32m     41\u001B[0m             write_binary_uint8(\u001B[38;5;241m0\u001B[39m, \u001B[38;5;28mself\u001B[39m\u001B[38;5;241m.\u001B[39mfout)\n\u001B[1;32m---> 43\u001B[0m         \u001B[43mwrite_column\u001B[49m\u001B[43m(\u001B[49m\u001B[38;5;28;43mself\u001B[39;49m\u001B[38;5;241;43m.\u001B[39;49m\u001B[43mcontext\u001B[49m\u001B[43m,\u001B[49m\u001B[43m \u001B[49m\u001B[43mcol_name\u001B[49m\u001B[43m,\u001B[49m\u001B[43m \u001B[49m\u001B[43mcol_type\u001B[49m\u001B[43m,\u001B[49m\u001B[43m \u001B[49m\u001B[43mitems\u001B[49m\u001B[43m,\u001B[49m\n\u001B[0;32m     44\u001B[0m \u001B[43m                     \u001B[49m\u001B[38;5;28;43mself\u001B[39;49m\u001B[38;5;241;43m.\u001B[39;49m\u001B[43mfout\u001B[49m\u001B[43m,\u001B[49m\u001B[43m \u001B[49m\u001B[43mtypes_check\u001B[49m\u001B[38;5;241;43m=\u001B[39;49m\u001B[43mblock\u001B[49m\u001B[38;5;241;43m.\u001B[39;49m\u001B[43mtypes_check\u001B[49m\u001B[43m)\u001B[49m\n\u001B[0;32m     46\u001B[0m \u001B[38;5;28mself\u001B[39m\u001B[38;5;241m.\u001B[39mfinalize()\n",
      "File \u001B[1;32m~\\PycharmProjects\\pythonProject1\\venv\\lib\\site-packages\\clickhouse_driver\\columns\\service.py:179\u001B[0m, in \u001B[0;36mwrite_column\u001B[1;34m(context, column_name, column_spec, items, buf, types_check)\u001B[0m\n\u001B[0;32m    178\u001B[0m error \u001B[38;5;241m=\u001B[39m e\u001B[38;5;241m.\u001B[39margs[\u001B[38;5;241m0\u001B[39m]\n\u001B[1;32m--> 179\u001B[0m \u001B[38;5;28;01mraise\u001B[39;00m errors\u001B[38;5;241m.\u001B[39mTypeMismatchError(\n\u001B[0;32m    180\u001B[0m     \u001B[38;5;124m'\u001B[39m\u001B[38;5;124mType mismatch in VALUES section. \u001B[39m\u001B[38;5;124m'\u001B[39m\n\u001B[0;32m    181\u001B[0m     \u001B[38;5;124m'\u001B[39m\u001B[38;5;124mRepeat query with types_check=True for detailed info. \u001B[39m\u001B[38;5;124m'\u001B[39m\n\u001B[0;32m    182\u001B[0m     \u001B[38;5;124m'\u001B[39m\u001B[38;5;124mColumn \u001B[39m\u001B[38;5;132;01m{}\u001B[39;00m\u001B[38;5;124m: \u001B[39m\u001B[38;5;132;01m{}\u001B[39;00m\u001B[38;5;124m'\u001B[39m\u001B[38;5;241m.\u001B[39mformat(\n\u001B[0;32m    183\u001B[0m         column_name, \u001B[38;5;28mstr\u001B[39m(error)\n\u001B[0;32m    184\u001B[0m     )\n\u001B[0;32m    185\u001B[0m )\n",
      "\u001B[1;31mTypeMismatchError\u001B[0m: Code: 53. Type mismatch in VALUES section. Repeat query with types_check=True for detailed info. Column year: required argument is not an integer",
      "\nDuring handling of the above exception, another exception occurred:\n",
      "\u001B[1;31mAttributeError\u001B[0m                            Traceback (most recent call last)",
      "Cell \u001B[1;32mIn[36], line 26\u001B[0m\n\u001B[0;32m     24\u001B[0m \u001B[38;5;28;01mexcept\u001B[39;00m \u001B[38;5;167;01mTypeError\u001B[39;00m \u001B[38;5;28;01mas\u001B[39;00m te:\n\u001B[0;32m     25\u001B[0m     \u001B[38;5;28mprint\u001B[39m(\u001B[38;5;124mf\u001B[39m\u001B[38;5;124m\"\u001B[39m\u001B[38;5;124mTypeError occurred: \u001B[39m\u001B[38;5;132;01m{\u001B[39;00mte\u001B[38;5;132;01m}\u001B[39;00m\u001B[38;5;124m\"\u001B[39m)\n\u001B[1;32m---> 26\u001B[0m \u001B[38;5;28;01mexcept\u001B[39;00m \u001B[43mclient\u001B[49m\u001B[38;5;241;43m.\u001B[39;49m\u001B[43mError\u001B[49m \u001B[38;5;28;01mas\u001B[39;00m ce:\n\u001B[0;32m     27\u001B[0m     \u001B[38;5;28mprint\u001B[39m(\u001B[38;5;124mf\u001B[39m\u001B[38;5;124m\"\u001B[39m\u001B[38;5;124mClickHouse Error occurred: \u001B[39m\u001B[38;5;132;01m{\u001B[39;00mce\u001B[38;5;132;01m}\u001B[39;00m\u001B[38;5;124m\"\u001B[39m)\n\u001B[0;32m     28\u001B[0m \u001B[38;5;28;01mexcept\u001B[39;00m \u001B[38;5;167;01mException\u001B[39;00m \u001B[38;5;28;01mas\u001B[39;00m e:\n",
      "\u001B[1;31mAttributeError\u001B[0m: 'Client' object has no attribute 'Error'"
     ]
    }
   ],
   "source": [
    "# Загрузка данных из CSV-файла с указанием правильного разделителя и пропуском первой строки\n",
    "df = pd.read_csv('data.csv', sep=';', encoding='utf-8')\n",
    "\n",
    "# Удаление лишнего столбца\n",
    "df = df.drop(columns=['Unnamed: 7'])\n",
    "\n",
    "\n",
    "# Преобразование названий столбцов для соответствия структуре таблицы\n",
    "df.columns = df.columns = [\"station\", \"line\", \"year\", \"quarter\", \"entries\", \"exits\", \"global_id\"]\n",
    "# df = df[df['station'] != 'Станция метрополитена']\n",
    "\n",
    "print(df.head())\n",
    "\n",
    "# Преобразование данных в список кортежей для вставки\n",
    "data = [tuple(x) for x in df.to_numpy()]\n",
    "\n",
    "# Вставка данных в таблицу с обработкой исключений\n",
    "try:\n",
    "    client.execute('''\n",
    "    INSERT INTO metro_entries (station, line, year, quarter, entries, exits, global_id) VALUES\n",
    "    ''', data)\n",
    "except ValueError as ve:\n",
    "    print(f\"ValueError occurred: {ve}\")\n",
    "except TypeError as te:\n",
    "    print(f\"TypeError occurred: {te}\")\n",
    "except client.Error as ce:\n",
    "    print(f\"ClickHouse Error occurred: {ce}\")\n",
    "except Exception as e:\n",
    "    print(f\"An unexpected error occurred: {e}\")"
   ],
   "metadata": {
    "collapsed": false,
    "ExecuteTime": {
     "end_time": "2024-06-02T21:14:49.611034800Z",
     "start_time": "2024-06-02T21:14:49.361025100Z"
    }
   },
   "id": "74a7dad09c01fa0"
  },
  {
   "cell_type": "code",
   "execution_count": 25,
   "outputs": [
    {
     "data": {
      "text/plain": "7422"
     },
     "execution_count": 25,
     "metadata": {},
     "output_type": "execute_result"
    }
   ],
   "source": [
    "query = '''\n",
    "SELECT count(*) FROM metro_entries\n",
    "'''\n",
    "\n",
    "clickhouse_record_count = client.execute(query)[0][0]\n",
    "\n",
    "clickhouse_record_count"
   ],
   "metadata": {
    "collapsed": false,
    "ExecuteTime": {
     "end_time": "2024-06-02T20:38:36.138960600Z",
     "start_time": "2024-06-02T20:38:36.080962900Z"
    }
   },
   "id": "426c3f2740b6de76"
  },
  {
   "cell_type": "code",
   "execution_count": 26,
   "outputs": [
    {
     "name": "stdout",
     "output_type": "stream",
     "text": [
      "Количество записей не совпадает. В CSV-файле: 3711, в ClickHouse: 7422.\n"
     ]
    }
   ],
   "source": [
    "# Подсчет количества записей в CSV-файле\n",
    "csv_record_count = len(df)\n",
    "\n",
    "# Сравнение количества записей\n",
    "if csv_record_count == clickhouse_record_count:\n",
    "    print(f\"Количество записей в ClickHouse совпадает с количеством записей в CSV-файле - {csv_record_count}\" )\n",
    "else:\n",
    "    print(f\"Количество записей не совпадает. В CSV-файле: {csv_record_count}, в ClickHouse: {clickhouse_record_count}.\")"
   ],
   "metadata": {
    "collapsed": false,
    "ExecuteTime": {
     "end_time": "2024-06-02T20:38:39.696328900Z",
     "start_time": "2024-06-02T20:38:39.670340200Z"
    }
   },
   "id": "7579100ffd15f25f"
  },
  {
   "cell_type": "code",
   "execution_count": 45,
   "outputs": [
    {
     "ename": "ValueError",
     "evalue": "Length mismatch: Expected axis has 7 elements, new values have 6 elements",
     "output_type": "error",
     "traceback": [
      "\u001B[1;31m---------------------------------------------------------------------------\u001B[0m",
      "\u001B[1;31mValueError\u001B[0m                                Traceback (most recent call last)",
      "Cell \u001B[1;32mIn[45], line 13\u001B[0m\n\u001B[0;32m     10\u001B[0m df \u001B[38;5;241m=\u001B[39m df\u001B[38;5;241m.\u001B[39mdrop(columns\u001B[38;5;241m=\u001B[39m[\u001B[38;5;124m'\u001B[39m\u001B[38;5;124mglobal_id\u001B[39m\u001B[38;5;124m'\u001B[39m])\n\u001B[0;32m     12\u001B[0m \u001B[38;5;66;03m# Преобразование названий столбцов для соответствия структуре таблицы\u001B[39;00m\n\u001B[1;32m---> 13\u001B[0m \u001B[43mdf\u001B[49m\u001B[38;5;241;43m.\u001B[39;49m\u001B[43mcolumns\u001B[49m \u001B[38;5;241m=\u001B[39m [\u001B[38;5;124m\"\u001B[39m\u001B[38;5;124mstation\u001B[39m\u001B[38;5;124m\"\u001B[39m, \u001B[38;5;124m\"\u001B[39m\u001B[38;5;124mline\u001B[39m\u001B[38;5;124m\"\u001B[39m, \u001B[38;5;124m\"\u001B[39m\u001B[38;5;124myear\u001B[39m\u001B[38;5;124m\"\u001B[39m, \u001B[38;5;124m\"\u001B[39m\u001B[38;5;124mquarter\u001B[39m\u001B[38;5;124m\"\u001B[39m, \u001B[38;5;124m\"\u001B[39m\u001B[38;5;124mentries\u001B[39m\u001B[38;5;124m\"\u001B[39m, \u001B[38;5;124m\"\u001B[39m\u001B[38;5;124mexits\u001B[39m\u001B[38;5;124m\"\u001B[39m]\n\u001B[0;32m     15\u001B[0m \u001B[38;5;66;03m# Удаление строки с названиями станций и переиндексация\u001B[39;00m\n\u001B[0;32m     16\u001B[0m df \u001B[38;5;241m=\u001B[39m df\u001B[38;5;241m.\u001B[39mreset_index(drop\u001B[38;5;241m=\u001B[39m\u001B[38;5;28;01mTrue\u001B[39;00m)\n",
      "File \u001B[1;32m~\\PycharmProjects\\pythonProject1\\venv\\lib\\site-packages\\pandas\\core\\generic.py:6313\u001B[0m, in \u001B[0;36mNDFrame.__setattr__\u001B[1;34m(self, name, value)\u001B[0m\n\u001B[0;32m   6311\u001B[0m \u001B[38;5;28;01mtry\u001B[39;00m:\n\u001B[0;32m   6312\u001B[0m     \u001B[38;5;28mobject\u001B[39m\u001B[38;5;241m.\u001B[39m\u001B[38;5;21m__getattribute__\u001B[39m(\u001B[38;5;28mself\u001B[39m, name)\n\u001B[1;32m-> 6313\u001B[0m     \u001B[38;5;28;01mreturn\u001B[39;00m \u001B[38;5;28;43mobject\u001B[39;49m\u001B[38;5;241;43m.\u001B[39;49m\u001B[38;5;21;43m__setattr__\u001B[39;49m\u001B[43m(\u001B[49m\u001B[38;5;28;43mself\u001B[39;49m\u001B[43m,\u001B[49m\u001B[43m \u001B[49m\u001B[43mname\u001B[49m\u001B[43m,\u001B[49m\u001B[43m \u001B[49m\u001B[43mvalue\u001B[49m\u001B[43m)\u001B[49m\n\u001B[0;32m   6314\u001B[0m \u001B[38;5;28;01mexcept\u001B[39;00m \u001B[38;5;167;01mAttributeError\u001B[39;00m:\n\u001B[0;32m   6315\u001B[0m     \u001B[38;5;28;01mpass\u001B[39;00m\n",
      "File \u001B[1;32mproperties.pyx:69\u001B[0m, in \u001B[0;36mpandas._libs.properties.AxisProperty.__set__\u001B[1;34m()\u001B[0m\n",
      "File \u001B[1;32m~\\PycharmProjects\\pythonProject1\\venv\\lib\\site-packages\\pandas\\core\\generic.py:814\u001B[0m, in \u001B[0;36mNDFrame._set_axis\u001B[1;34m(self, axis, labels)\u001B[0m\n\u001B[0;32m    809\u001B[0m \u001B[38;5;250m\u001B[39m\u001B[38;5;124;03m\"\"\"\u001B[39;00m\n\u001B[0;32m    810\u001B[0m \u001B[38;5;124;03mThis is called from the cython code when we set the `index` attribute\u001B[39;00m\n\u001B[0;32m    811\u001B[0m \u001B[38;5;124;03mdirectly, e.g. `series.index = [1, 2, 3]`.\u001B[39;00m\n\u001B[0;32m    812\u001B[0m \u001B[38;5;124;03m\"\"\"\u001B[39;00m\n\u001B[0;32m    813\u001B[0m labels \u001B[38;5;241m=\u001B[39m ensure_index(labels)\n\u001B[1;32m--> 814\u001B[0m \u001B[38;5;28;43mself\u001B[39;49m\u001B[38;5;241;43m.\u001B[39;49m\u001B[43m_mgr\u001B[49m\u001B[38;5;241;43m.\u001B[39;49m\u001B[43mset_axis\u001B[49m\u001B[43m(\u001B[49m\u001B[43maxis\u001B[49m\u001B[43m,\u001B[49m\u001B[43m \u001B[49m\u001B[43mlabels\u001B[49m\u001B[43m)\u001B[49m\n\u001B[0;32m    815\u001B[0m \u001B[38;5;28mself\u001B[39m\u001B[38;5;241m.\u001B[39m_clear_item_cache()\n",
      "File \u001B[1;32m~\\PycharmProjects\\pythonProject1\\venv\\lib\\site-packages\\pandas\\core\\internals\\managers.py:238\u001B[0m, in \u001B[0;36mBaseBlockManager.set_axis\u001B[1;34m(self, axis, new_labels)\u001B[0m\n\u001B[0;32m    236\u001B[0m \u001B[38;5;28;01mdef\u001B[39;00m \u001B[38;5;21mset_axis\u001B[39m(\u001B[38;5;28mself\u001B[39m, axis: AxisInt, new_labels: Index) \u001B[38;5;241m-\u001B[39m\u001B[38;5;241m>\u001B[39m \u001B[38;5;28;01mNone\u001B[39;00m:\n\u001B[0;32m    237\u001B[0m     \u001B[38;5;66;03m# Caller is responsible for ensuring we have an Index object.\u001B[39;00m\n\u001B[1;32m--> 238\u001B[0m     \u001B[38;5;28;43mself\u001B[39;49m\u001B[38;5;241;43m.\u001B[39;49m\u001B[43m_validate_set_axis\u001B[49m\u001B[43m(\u001B[49m\u001B[43maxis\u001B[49m\u001B[43m,\u001B[49m\u001B[43m \u001B[49m\u001B[43mnew_labels\u001B[49m\u001B[43m)\u001B[49m\n\u001B[0;32m    239\u001B[0m     \u001B[38;5;28mself\u001B[39m\u001B[38;5;241m.\u001B[39maxes[axis] \u001B[38;5;241m=\u001B[39m new_labels\n",
      "File \u001B[1;32m~\\PycharmProjects\\pythonProject1\\venv\\lib\\site-packages\\pandas\\core\\internals\\base.py:98\u001B[0m, in \u001B[0;36mDataManager._validate_set_axis\u001B[1;34m(self, axis, new_labels)\u001B[0m\n\u001B[0;32m     95\u001B[0m     \u001B[38;5;28;01mpass\u001B[39;00m\n\u001B[0;32m     97\u001B[0m \u001B[38;5;28;01melif\u001B[39;00m new_len \u001B[38;5;241m!=\u001B[39m old_len:\n\u001B[1;32m---> 98\u001B[0m     \u001B[38;5;28;01mraise\u001B[39;00m \u001B[38;5;167;01mValueError\u001B[39;00m(\n\u001B[0;32m     99\u001B[0m         \u001B[38;5;124mf\u001B[39m\u001B[38;5;124m\"\u001B[39m\u001B[38;5;124mLength mismatch: Expected axis has \u001B[39m\u001B[38;5;132;01m{\u001B[39;00mold_len\u001B[38;5;132;01m}\u001B[39;00m\u001B[38;5;124m elements, new \u001B[39m\u001B[38;5;124m\"\u001B[39m\n\u001B[0;32m    100\u001B[0m         \u001B[38;5;124mf\u001B[39m\u001B[38;5;124m\"\u001B[39m\u001B[38;5;124mvalues have \u001B[39m\u001B[38;5;132;01m{\u001B[39;00mnew_len\u001B[38;5;132;01m}\u001B[39;00m\u001B[38;5;124m elements\u001B[39m\u001B[38;5;124m\"\u001B[39m\n\u001B[0;32m    101\u001B[0m     )\n",
      "\u001B[1;31mValueError\u001B[0m: Length mismatch: Expected axis has 7 elements, new values have 6 elements"
     ]
    }
   ],
   "source": [
    "import pandas as pd\n",
    "import seaborn as sns\n",
    "import matplotlib.pyplot as plt\n",
    "\n",
    "\n",
    "# Загрузка данных из CSV-файла с указанием правильного разделителя и пропуском первой строки\n",
    "df = pd.read_csv('data.csv', sep=';', encoding='utf-8')\n",
    "\n",
    "# Удаление лишнего столбца\n",
    "df = df.drop(columns=['global_id'])\n",
    "\n",
    "# Преобразование названий столбцов для соответствия структуре таблицы\n",
    "df.columns = [\"station\", \"line\", \"year\", \"quarter\", \"entries\", \"exits\"]\n",
    "\n",
    "# Удаление строки с названиями станций и переиндексация\n",
    "df = df.reset_index(drop=True)\n",
    "\n",
    "# # Удаление первой строки, так как она содержит заголовки столбцов\n",
    "# df = df.iloc[1:]\n",
    "\n",
    "# Преобразование категориальных признаков в числовые с помощью one-hot encoding\n",
    "df = pd.get_dummies(df, columns=['station', 'line', 'year', 'quarter'])\n",
    "\n",
    "# Вычисление матрицы корреляций\n",
    "corr_matrix = df.corr()\n",
    "\n",
    "# Визуализация матрицы корреляций с использованием тепловой карты\n",
    "plt.figure(figsize=(12, 10))\n",
    "sns.heatmap(corr_matrix, annot=True, cmap='coolwarm', fmt=\".2f\")\n",
    "plt.title('Correlation Matrix Heatmap')\n",
    "plt.show()\n",
    "\n",
    "\n"
   ],
   "metadata": {
    "collapsed": false,
    "ExecuteTime": {
     "end_time": "2024-06-02T21:24:02.864776100Z",
     "start_time": "2024-06-02T21:24:02.811777900Z"
    }
   },
   "id": "206e6a6a7c16e8df"
  },
  {
   "cell_type": "code",
   "execution_count": null,
   "outputs": [],
   "source": [],
   "metadata": {
    "collapsed": false
   },
   "id": "d6a83b8fb1f7e86"
  }
 ],
 "metadata": {
  "kernelspec": {
   "display_name": "Python 3",
   "language": "python",
   "name": "python3"
  },
  "language_info": {
   "codemirror_mode": {
    "name": "ipython",
    "version": 2
   },
   "file_extension": ".py",
   "mimetype": "text/x-python",
   "name": "python",
   "nbconvert_exporter": "python",
   "pygments_lexer": "ipython2",
   "version": "2.7.6"
  }
 },
 "nbformat": 4,
 "nbformat_minor": 5
}
